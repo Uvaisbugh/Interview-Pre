{
  "nbformat": 4,
  "nbformat_minor": 0,
  "metadata": {
    "colab": {
      "provenance": [],
      "authorship_tag": "ABX9TyPbOwQw6S9liNZrSBMpb0a5",
      "include_colab_link": true
    },
    "kernelspec": {
      "name": "python3",
      "display_name": "Python 3"
    },
    "language_info": {
      "name": "python"
    }
  },
  "cells": [
    {
      "cell_type": "markdown",
      "metadata": {
        "id": "view-in-github",
        "colab_type": "text"
      },
      "source": [
        "<a href=\"https://colab.research.google.com/github/Uvaisbugh/Interview-Pre/blob/main/Embarks-01.ipynb\" target=\"_parent\"><img src=\"https://colab.research.google.com/assets/colab-badge.svg\" alt=\"Open In Colab\"/></a>"
      ]
    },
    {
      "cell_type": "markdown",
      "source": [
        "1)Write a python program to print Number triangle pattern\n",
        "\n",
        "1 <br>\n",
        "1 2 <br>\n",
        "1 2 3 <br>\n",
        "1 2 3 4 <br>\n",
        "1 2 3 4 5 <br>"
      ],
      "metadata": {
        "id": "JLXR0s2ezkJ_"
      }
    },
    {
      "cell_type": "code",
      "source": [
        "n= 5\n",
        "\n",
        "for i in range(1,n+1):\n",
        "    for j in range(1,i+1):\n",
        "        print(j,end=\" \")\n",
        "    print()\n",
        "\n"
      ],
      "metadata": {
        "colab": {
          "base_uri": "https://localhost:8080/"
        },
        "id": "jXdA4rQWzum0",
        "outputId": "24af47bd-6845-4be8-a436-4fb6c7630483"
      },
      "execution_count": 1,
      "outputs": [
        {
          "output_type": "stream",
          "name": "stdout",
          "text": [
            "1 \n",
            "1 2 \n",
            "1 2 3 \n",
            "1 2 3 4 \n",
            "1 2 3 4 5 \n"
          ]
        }
      ]
    },
    {
      "cell_type": "markdown",
      "source": [
        "2) String Compression: Implement a method to perform basic string compression using the counts of repeated characters. For example, the string \"aabcccccaaa\" would become **\"a2b1c5a3\".**"
      ],
      "metadata": {
        "id": "ujSSSNhSz4pY"
      }
    },
    {
      "source": [
        "def compress_string(s):\n",
        "    compressed= []\n",
        "    count = 1\n",
        "\n",
        "    for i in range(1,len(s)):\n",
        "        if s[i]==s[i-1]:\n",
        "            count += 1\n",
        "        else:\n",
        "            compressed.append(s[i-1]+ str(count))\n",
        "            count =1\n",
        "    compressed.append(s[-1]+ str(count))\n",
        "\n",
        "    return ''.join(compressed)\n",
        "string=\"aabcccccaaa\"\n",
        "compressed =compress_string(string)\n",
        "print(string)\n",
        "print(compressed)"
      ],
      "cell_type": "code",
      "metadata": {
        "colab": {
          "base_uri": "https://localhost:8080/"
        },
        "id": "LH6iikHQUoF2",
        "outputId": "eadd2613-bda7-4a72-ac2b-4d694c1e0c92"
      },
      "execution_count": 3,
      "outputs": [
        {
          "output_type": "stream",
          "name": "stdout",
          "text": [
            "aabcccccaaa\n",
            "a2b1c5a3\n"
          ]
        }
      ]
    },
    {
      "cell_type": "markdown",
      "source": [
        "3) Consider a scenario where you have a base class called Employee and derived classes such as Manager, Engineer, and Salesperson. How would you handle implementing a common method, such as calculateSalary(), in each derived class using inheritance and method overriding?"
      ],
      "metadata": {
        "id": "U83dbpiS0NuO"
      }
    },
    {
      "cell_type": "code",
      "source": [
        "\n",
        "\n",
        "class Employee:\n",
        "    def __init__(self, name, base_salary):\n",
        "        self.name = name\n",
        "        self.base_salary = base_salary\n",
        "\n",
        "    def calculateSalary(self):\n",
        "        return self.base_salary\n",
        "\n",
        "\n",
        "class Manager(Employee):\n",
        "    def __init__(self, name, base_salary, bonus):\n",
        "        super().__init__(name, base_salary)\n",
        "        self.bonus = bonus\n",
        "\n",
        "    def calculateSalary(self):\n",
        "        return self.base_salary + self.bonus\n",
        "\n",
        "\n",
        "class Engineer(Employee):\n",
        "    def __init__(self, name, base_salary, overtime_hours, hourly_rate):\n",
        "        super().__init__(name, base_salary)\n",
        "        self.overtime_hours = overtime_hours\n",
        "        self.hourly_rate = hourly_rate\n",
        "\n",
        "    def calculateSalary(self):\n",
        "        return self.base_salary + (self.overtime_hours * self.hourly_rate)\n",
        "\n",
        "\n",
        "class Salesperson(Employee):\n",
        "    def __init__(self, name, base_salary, sales_amount, commission_rate):\n",
        "        super().__init__(name, base_salary)\n",
        "        self.sales_amount = sales_amount\n",
        "        self.commission_rate = commission_rate\n",
        "\n",
        "    def calculateSalary(self):\n",
        "        return self.base_salary + (self.sales_amount * self.commission_rate)\n",
        "\n",
        "\n",
        "# Example usage\n",
        "manager = Manager(\"Alice\", 60000, 10000)\n",
        "engineer = Engineer(\"Bob\", 70000, 10, 50)\n",
        "salesperson = Salesperson(\"Charlie\", 50000, 500000, 0.02)\n",
        "\n",
        "print(f\"{manager.name}'s salary: ${manager.calculateSalary()}\")\n",
        "print(f\"{engineer.name}'s salary: ${engineer.calculateSalary()}\")\n",
        "print(f\"{salesperson.name}'s salary: ${salesperson.calculateSalary()}\")"
      ],
      "metadata": {
        "colab": {
          "base_uri": "https://localhost:8080/"
        },
        "id": "G8oMaw9-0Ab6",
        "outputId": "06a7f1d6-f489-4cf5-eeb3-1538bfe559ab"
      },
      "execution_count": 4,
      "outputs": [
        {
          "output_type": "stream",
          "name": "stdout",
          "text": [
            "Alice's salary: $70000\n",
            "Bob's salary: $70500\n",
            "Charlie's salary: $60000.0\n"
          ]
        }
      ]
    },
    {
      "cell_type": "code",
      "source": [],
      "metadata": {
        "id": "mN7YoLp92pTY"
      },
      "execution_count": null,
      "outputs": []
    }
  ]
}