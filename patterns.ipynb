{
  "nbformat": 4,
  "nbformat_minor": 0,
  "metadata": {
    "colab": {
      "provenance": [],
      "authorship_tag": "ABX9TyO64Cgx7hC5q8u5EIi5p6BL",
      "include_colab_link": true
    },
    "kernelspec": {
      "name": "python3",
      "display_name": "Python 3"
    },
    "language_info": {
      "name": "python"
    }
  },
  "cells": [
    {
      "cell_type": "markdown",
      "metadata": {
        "id": "view-in-github",
        "colab_type": "text"
      },
      "source": [
        "<a href=\"https://colab.research.google.com/github/Uvaisbugh/Interview-Pre/blob/main/patterns.ipynb\" target=\"_parent\"><img src=\"https://colab.research.google.com/assets/colab-badge.svg\" alt=\"Open In Colab\"/></a>"
      ]
    },
    {
      "cell_type": "code",
      "execution_count": 9,
      "metadata": {
        "colab": {
          "base_uri": "https://localhost:8080/"
        },
        "id": "SERyyO_p5LDM",
        "outputId": "a4bf57c5-456c-4084-8e4c-ea4f54b93e44"
      },
      "outputs": [
        {
          "output_type": "stream",
          "name": "stdout",
          "text": [
            "* * * * * \n",
            "* * * * * \n",
            "* * * * * \n",
            "* * * * * \n",
            "* * * * * \n"
          ]
        }
      ],
      "source": [
        "def nForest(n: int) -> None:\n",
        "    # Write your solution here.\n",
        "    for i in range(n):\n",
        "        for j in range(n):\n",
        "            print(\"*\", end=\" \")\n",
        "        print()\n",
        "\n",
        "nForest(5)"
      ]
    },
    {
      "cell_type": "code",
      "source": [
        "def nForest1(n:int) ->None:\n",
        "    for i in range(n+1):\n",
        "        for j in range(i):\n",
        "            print(\"*\", end=\" \")\n",
        "        print()\n",
        "nForest1(5)"
      ],
      "metadata": {
        "colab": {
          "base_uri": "https://localhost:8080/"
        },
        "id": "1NxqezmYaD4E",
        "outputId": "8e8afedf-18f4-49ee-ecc9-aa6f8eed46de"
      },
      "execution_count": 10,
      "outputs": [
        {
          "output_type": "stream",
          "name": "stdout",
          "text": [
            "\n",
            "* \n",
            "* * \n",
            "* * * \n",
            "* * * * \n",
            "* * * * * \n"
          ]
        }
      ]
    },
    {
      "cell_type": "code",
      "source": [
        "def nForest2(n:int) ->None:\n",
        "    for i in range(n+1):\n",
        "        for j in range(i):\n",
        "            print(j+1, end=\" \")\n",
        "        print()\n",
        "nForest2(5)"
      ],
      "metadata": {
        "colab": {
          "base_uri": "https://localhost:8080/"
        },
        "id": "lew9yXsDbMoN",
        "outputId": "559ab6ee-d8af-4964-8552-050e5eb461ec"
      },
      "execution_count": 11,
      "outputs": [
        {
          "output_type": "stream",
          "name": "stdout",
          "text": [
            "\n",
            "1 \n",
            "1 2 \n",
            "1 2 3 \n",
            "1 2 3 4 \n",
            "1 2 3 4 5 \n"
          ]
        }
      ]
    },
    {
      "cell_type": "code",
      "source": [
        "def triangle( n:int) ->None:\n",
        "    for i in range(n+1):\n",
        "        for j in range(i):\n",
        "            print(i, end=\" \")\n",
        "        print()\n",
        "triangle(7)"
      ],
      "metadata": {
        "colab": {
          "base_uri": "https://localhost:8080/"
        },
        "id": "xhDSvDdseD8x",
        "outputId": "bfce893a-8f5b-4af4-80fa-d1c88edce2e8"
      },
      "execution_count": 12,
      "outputs": [
        {
          "output_type": "stream",
          "name": "stdout",
          "text": [
            "\n",
            "1 \n",
            "2 2 \n",
            "3 3 3 \n",
            "4 4 4 4 \n",
            "5 5 5 5 5 \n",
            "6 6 6 6 6 6 \n",
            "7 7 7 7 7 7 7 \n"
          ]
        }
      ]
    },
    {
      "cell_type": "code",
      "source": [
        "def y_pettern(n):\n",
        "  for i in range(n,0,-1):\n",
        "    for j in range(i):\n",
        "      print(\"*\",end=\" \")\n",
        "    print()\n",
        "y_pettern(7)"
      ],
      "metadata": {
        "colab": {
          "base_uri": "https://localhost:8080/"
        },
        "id": "RiU5I7Qwe3kb",
        "outputId": "18cc1d67-c12a-4e2a-c0c1-6dea6993b754"
      },
      "execution_count": 13,
      "outputs": [
        {
          "output_type": "stream",
          "name": "stdout",
          "text": [
            "* * * * * * * \n",
            "* * * * * * \n",
            "* * * * * \n",
            "* * * * \n",
            "* * * \n",
            "* * \n",
            "* \n"
          ]
        }
      ]
    },
    {
      "cell_type": "code",
      "source": [
        "def y_numbers(n):\n",
        "  for i in range(n,0,-1):\n",
        "    for j in range(i):\n",
        "      print(j+1,end=\" \")\n",
        "    print()\n",
        "y_numbers(7)"
      ],
      "metadata": {
        "colab": {
          "base_uri": "https://localhost:8080/"
        },
        "id": "OxVYoEsegPFx",
        "outputId": "4cd763c0-07f1-4575-f9b7-4e7c425a7821"
      },
      "execution_count": 14,
      "outputs": [
        {
          "output_type": "stream",
          "name": "stdout",
          "text": [
            "1 2 3 4 5 6 7 \n",
            "1 2 3 4 5 6 \n",
            "1 2 3 4 5 \n",
            "1 2 3 4 \n",
            "1 2 3 \n",
            "1 2 \n",
            "1 \n"
          ]
        }
      ]
    },
    {
      "source": [
        "def nStarTriangle(n: int) -> None:\n",
        "    stars = 1\n",
        "    empty = n-1\n",
        "    for i in range(n):\n",
        "        print(\"{}{}{}\".format(' '*empty, '*'*stars, ' '*empty))\n",
        "        stars+=2\n",
        "        empty-=1\n",
        "nStarTriangle()"
      ],
      "cell_type": "code",
      "metadata": {
        "colab": {
          "base_uri": "https://localhost:8080/"
        },
        "id": "_bNDyaDErxPA",
        "outputId": "8cb3c2cc-d542-43da-a959-d5746ca3ea32"
      },
      "execution_count": 32,
      "outputs": [
        {
          "output_type": "stream",
          "name": "stdout",
          "text": [
            "  *****  \n",
            " ******* \n",
            "*********\n"
          ]
        }
      ]
    },
    {
      "cell_type": "code",
      "source": [
        "def pyramid(n):\n",
        "  stars=2* n - 1\n",
        "  empty= 1\n",
        "  for i in range(n+1):\n",
        "    print(\"{}{}{}\".format(' '*empty, '*'*stars, ' '*empty))\n",
        "    stars-=2\n",
        "    empty+=1\n",
        "pyramid(3)\n",
        "\n"
      ],
      "metadata": {
        "colab": {
          "base_uri": "https://localhost:8080/"
        },
        "id": "OuujoYXahWjq",
        "outputId": "fb5eca8a-4a5f-4f2d-91fb-c6509db5ce8f"
      },
      "execution_count": 34,
      "outputs": [
        {
          "output_type": "stream",
          "name": "stdout",
          "text": [
            " ***** \n",
            "  ***  \n",
            "   *   \n",
            "        \n"
          ]
        }
      ]
    },
    {
      "cell_type": "code",
      "source": [
        "def nStarDiamond(n: int) -> None:\n",
        "    star=1\n",
        "    empty= n-1\n",
        "    for i in range(n):\n",
        "        print(\"{}{}{}\".format(' '*empty,'*'*star,' '*empty))\n",
        "        star +=2\n",
        "        empty -=1\n",
        "\n",
        "    star =2*n -1\n",
        "    empty = 0\n",
        "    for j in range(n):\n",
        "        print(\"{}{}{}\".format(' '*empty,'*'*star,' '*empty))\n",
        "        star -=2\n",
        "        empty +=1\n",
        "\n",
        "nStarDiamond(3)"
      ],
      "metadata": {
        "colab": {
          "base_uri": "https://localhost:8080/"
        },
        "id": "NdPSAB76ENKx",
        "outputId": "a83f44fb-ccd7-4ea0-db44-d6becaeb51ae"
      },
      "execution_count": 40,
      "outputs": [
        {
          "output_type": "stream",
          "name": "stdout",
          "text": [
            "  *  \n",
            " *** \n",
            "*****\n",
            "*****\n",
            " *** \n",
            "  *  \n"
          ]
        }
      ]
    },
    {
      "cell_type": "code",
      "source": [
        "def draw(n):\n",
        "  i = 1\n",
        "  while i< n:\n",
        "    print('*'*i)\n",
        "    i +=1\n",
        "  while i>0:\n",
        "    print('*'*i)\n",
        "    i -=1\n",
        "\n",
        "\n",
        "\n",
        "draw(3)"
      ],
      "metadata": {
        "colab": {
          "base_uri": "https://localhost:8080/"
        },
        "id": "qf9es5rpwJ0O",
        "outputId": "636bde32-3ed4-4d9d-ea33-ea05e718e43f"
      },
      "execution_count": 50,
      "outputs": [
        {
          "output_type": "stream",
          "name": "stdout",
          "text": [
            "*\n",
            "**\n",
            "***\n",
            "**\n",
            "*\n"
          ]
        }
      ]
    },
    {
      "cell_type": "code",
      "source": [
        "def nBinaryTriangle(n: int) -> None:\n",
        "    for i in range(1, n + 1):\n",
        "        for j in range(i):\n",
        "            print((j + i) % 2, end=\" \")\n",
        "        print()\n",
        "\n",
        "nBinaryTriangle(6)"
      ],
      "metadata": {
        "colab": {
          "base_uri": "https://localhost:8080/"
        },
        "id": "HNkSBqlezlKm",
        "outputId": "7fd2145d-2376-4358-ce78-dca30fd2c32b"
      },
      "execution_count": 2,
      "outputs": [
        {
          "output_type": "stream",
          "name": "stdout",
          "text": [
            "1 \n",
            "0 1 \n",
            "1 0 1 \n",
            "0 1 0 1 \n",
            "1 0 1 0 1 \n",
            "0 1 0 1 0 1 \n"
          ]
        }
      ]
    },
    {
      "cell_type": "code",
      "source": [
        "'''\n",
        "    Time Complexity - O( N * N )\n",
        "    Space Complexity - O( 1 )\n",
        "\n",
        "    where N is the given input.\n",
        "'''\n",
        "\n",
        "\n",
        "def nBinaryTriangle2(n: int) -> None:\n",
        "\n",
        "    # Initialise 'num'.\n",
        "    num = 1\n",
        "    for i in range(n):\n",
        "        for j in range(1, num+1):\n",
        "            print((i + j) & 1, end=\" \")\n",
        "\n",
        "        # End the current line.\n",
        "        print()\n",
        "\n",
        "        num += 1\n",
        "\n",
        "nBinaryTriangle2(6)"
      ],
      "metadata": {
        "colab": {
          "base_uri": "https://localhost:8080/"
        },
        "id": "XeE_s8ZNS-XT",
        "outputId": "8194bb13-8347-47da-944d-e9784c4e6120"
      },
      "execution_count": 3,
      "outputs": [
        {
          "output_type": "stream",
          "name": "stdout",
          "text": [
            "1 \n",
            "0 1 \n",
            "1 0 1 \n",
            "0 1 0 1 \n",
            "1 0 1 0 1 \n",
            "0 1 0 1 0 1 \n"
          ]
        }
      ]
    },
    {
      "cell_type": "code",
      "source": [
        "\n",
        "n=4\n",
        "for i in range(n):\n",
        "  print(\" \"*(n-i)+\"*\"*(2*i+1))\n",
        "for i in range(n-2,-1,-1):\n",
        "  print(\" \"*(n-i)+\"*\"*(2*i+1))"
      ],
      "metadata": {
        "colab": {
          "base_uri": "https://localhost:8080/"
        },
        "id": "1wqCLMqanm0n",
        "outputId": "2ac30cdc-11db-4eda-b7db-09a20c145dbd"
      },
      "execution_count": 4,
      "outputs": [
        {
          "output_type": "stream",
          "name": "stdout",
          "text": [
            "    *\n",
            "   ***\n",
            "  *****\n",
            " *******\n",
            "  *****\n",
            "   ***\n",
            "    *\n"
          ]
        }
      ]
    },
    {
      "cell_type": "code",
      "source": [
        "for i in range(n):\n",
        "  if i==0:\n",
        "    print(\" \"*(n-i)+\"*\"*((2*(i))+1))\n",
        "  else:\n",
        "    print(\" \"*(n-i)+\"*\"+\" \"*((2*(i-1))+1)+'*')\n",
        "\n",
        "for i in range(n,-1,-1):\n",
        "  if i==0:\n",
        "    print(\" \"*(n-i)+\"*\"*((2*(i))+1))\n",
        "  else:\n",
        "    print(\" \"*(n-i)+\"*\"+\" \"*((2*(i-1))+1)+'*')"
      ],
      "metadata": {
        "colab": {
          "base_uri": "https://localhost:8080/"
        },
        "id": "wts4ReT-oE28",
        "outputId": "c4426b6d-6a0d-4b78-c4c8-becbcbe404b9"
      },
      "execution_count": 12,
      "outputs": [
        {
          "output_type": "stream",
          "name": "stdout",
          "text": [
            "    *\n",
            "   * *\n",
            "  *   *\n",
            " *     *\n",
            "*       *\n",
            " *     *\n",
            "  *   *\n",
            "   * *\n",
            "    *\n"
          ]
        }
      ]
    },
    {
      "cell_type": "code",
      "source": [
        "n=5\n",
        "for i in range(1,n+1):\n",
        "  for j in range(n,0,-1):\n",
        "    if (i>=j) :\n",
        "      print(i,end=\" \")\n",
        "    else:\n",
        "      print(\" \", end=\" \")\n",
        "  print()"
      ],
      "metadata": {
        "colab": {
          "base_uri": "https://localhost:8080/"
        },
        "id": "HFG1O-y4EfJb",
        "outputId": "7d2c617f-5614-488e-b550-725076fd1d51"
      },
      "execution_count": 6,
      "outputs": [
        {
          "output_type": "stream",
          "name": "stdout",
          "text": [
            "        1 \n",
            "      2 2 \n",
            "    3 3 3 \n",
            "  4 4 4 4 \n",
            "5 5 5 5 5 \n"
          ]
        }
      ]
    },
    {
      "cell_type": "code",
      "source": [],
      "metadata": {
        "id": "qnvJArR9FC37"
      },
      "execution_count": null,
      "outputs": []
    }
  ]
}