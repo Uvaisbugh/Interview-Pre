{
  "nbformat": 4,
  "nbformat_minor": 0,
  "metadata": {
    "colab": {
      "provenance": [],
      "authorship_tag": "ABX9TyO/eJyiqyFR0XClNbDIy88a",
      "include_colab_link": true
    },
    "kernelspec": {
      "name": "python3",
      "display_name": "Python 3"
    },
    "language_info": {
      "name": "python"
    }
  },
  "cells": [
    {
      "cell_type": "markdown",
      "metadata": {
        "id": "view-in-github",
        "colab_type": "text"
      },
      "source": [
        "<a href=\"https://colab.research.google.com/github/Uvaisbugh/Interview-Pre/blob/main/patterns.ipynb\" target=\"_parent\"><img src=\"https://colab.research.google.com/assets/colab-badge.svg\" alt=\"Open In Colab\"/></a>"
      ]
    },
    {
      "cell_type": "code",
      "execution_count": 9,
      "metadata": {
        "colab": {
          "base_uri": "https://localhost:8080/"
        },
        "id": "SERyyO_p5LDM",
        "outputId": "a4bf57c5-456c-4084-8e4c-ea4f54b93e44"
      },
      "outputs": [
        {
          "output_type": "stream",
          "name": "stdout",
          "text": [
            "* * * * * \n",
            "* * * * * \n",
            "* * * * * \n",
            "* * * * * \n",
            "* * * * * \n"
          ]
        }
      ],
      "source": [
        "def nForest(n: int) -> None:\n",
        "    # Write your solution here.\n",
        "    for i in range(n):\n",
        "        for j in range(n):\n",
        "            print(\"*\", end=\" \")\n",
        "        print()\n",
        "\n",
        "nForest(5)"
      ]
    },
    {
      "cell_type": "code",
      "source": [
        "def nForest1(n:int) ->None:\n",
        "    for i in range(n+1):\n",
        "        for j in range(i):\n",
        "            print(\"*\", end=\" \")\n",
        "        print()\n",
        "nForest1(5)"
      ],
      "metadata": {
        "colab": {
          "base_uri": "https://localhost:8080/"
        },
        "id": "1NxqezmYaD4E",
        "outputId": "8e8afedf-18f4-49ee-ecc9-aa6f8eed46de"
      },
      "execution_count": 10,
      "outputs": [
        {
          "output_type": "stream",
          "name": "stdout",
          "text": [
            "\n",
            "* \n",
            "* * \n",
            "* * * \n",
            "* * * * \n",
            "* * * * * \n"
          ]
        }
      ]
    },
    {
      "cell_type": "code",
      "source": [
        "def nForest2(n:int) ->None:\n",
        "    for i in range(n+1):\n",
        "        for j in range(i):\n",
        "            print(j+1, end=\" \")\n",
        "        print()\n",
        "nForest2(5)"
      ],
      "metadata": {
        "colab": {
          "base_uri": "https://localhost:8080/"
        },
        "id": "lew9yXsDbMoN",
        "outputId": "559ab6ee-d8af-4964-8552-050e5eb461ec"
      },
      "execution_count": 11,
      "outputs": [
        {
          "output_type": "stream",
          "name": "stdout",
          "text": [
            "\n",
            "1 \n",
            "1 2 \n",
            "1 2 3 \n",
            "1 2 3 4 \n",
            "1 2 3 4 5 \n"
          ]
        }
      ]
    },
    {
      "cell_type": "code",
      "source": [
        "def triangle( n:int) ->None:\n",
        "    for i in range(n+1):\n",
        "        for j in range(i):\n",
        "            print(i, end=\" \")\n",
        "        print()\n",
        "triangle(7)"
      ],
      "metadata": {
        "colab": {
          "base_uri": "https://localhost:8080/"
        },
        "id": "xhDSvDdseD8x",
        "outputId": "bfce893a-8f5b-4af4-80fa-d1c88edce2e8"
      },
      "execution_count": 12,
      "outputs": [
        {
          "output_type": "stream",
          "name": "stdout",
          "text": [
            "\n",
            "1 \n",
            "2 2 \n",
            "3 3 3 \n",
            "4 4 4 4 \n",
            "5 5 5 5 5 \n",
            "6 6 6 6 6 6 \n",
            "7 7 7 7 7 7 7 \n"
          ]
        }
      ]
    },
    {
      "cell_type": "code",
      "source": [
        "def y_pettern(n):\n",
        "  for i in range(n,0,-1):\n",
        "    for j in range(i):\n",
        "      print(\"*\",end=\" \")\n",
        "    print()\n",
        "y_pettern(7)"
      ],
      "metadata": {
        "colab": {
          "base_uri": "https://localhost:8080/"
        },
        "id": "RiU5I7Qwe3kb",
        "outputId": "18cc1d67-c12a-4e2a-c0c1-6dea6993b754"
      },
      "execution_count": 13,
      "outputs": [
        {
          "output_type": "stream",
          "name": "stdout",
          "text": [
            "* * * * * * * \n",
            "* * * * * * \n",
            "* * * * * \n",
            "* * * * \n",
            "* * * \n",
            "* * \n",
            "* \n"
          ]
        }
      ]
    },
    {
      "cell_type": "code",
      "source": [
        "def y_numbers(n):\n",
        "  for i in range(n,0,-1):\n",
        "    for j in range(i):\n",
        "      print(j+1,end=\" \")\n",
        "    print()\n",
        "y_numbers(7)"
      ],
      "metadata": {
        "colab": {
          "base_uri": "https://localhost:8080/"
        },
        "id": "OxVYoEsegPFx",
        "outputId": "4cd763c0-07f1-4575-f9b7-4e7c425a7821"
      },
      "execution_count": 14,
      "outputs": [
        {
          "output_type": "stream",
          "name": "stdout",
          "text": [
            "1 2 3 4 5 6 7 \n",
            "1 2 3 4 5 6 \n",
            "1 2 3 4 5 \n",
            "1 2 3 4 \n",
            "1 2 3 \n",
            "1 2 \n",
            "1 \n"
          ]
        }
      ]
    },
    {
      "source": [
        "def nStarTriangle(n: int) -> None:\n",
        "    stars = 1\n",
        "    empty = n-1\n",
        "    for i in range(n):\n",
        "        print(\"{}{}{}\".format(' '*empty, '*'*stars, ' '*empty))\n",
        "        stars+=2\n",
        "        empty-=1"
      ],
      "cell_type": "code",
      "metadata": {
        "id": "_bNDyaDErxPA"
      },
      "execution_count": 15,
      "outputs": []
    },
    {
      "cell_type": "code",
      "source": [
        "def nStarTriangle1(n: int) -> None:\n",
        "    stars = 1\n",
        "    empty = n-1\n",
        "    for i in range(1,n,-1):\n",
        "        print(\"{}{}{}\".format(' '*empty, '*'*stars, ' '*empty))\n",
        "        stars-=2\n",
        "        empty+=1\n",
        "\n"
      ],
      "metadata": {
        "id": "OuujoYXahWjq"
      },
      "execution_count": 16,
      "outputs": []
    },
    {
      "cell_type": "code",
      "source": [
        "nStarTriangle1(5)"
      ],
      "metadata": {
        "id": "NdPSAB76ENKx"
      },
      "execution_count": 17,
      "outputs": []
    }
  ]
}