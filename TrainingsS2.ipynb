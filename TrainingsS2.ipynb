{
  "nbformat": 4,
  "nbformat_minor": 0,
  "metadata": {
    "colab": {
      "provenance": [],
      "authorship_tag": "ABX9TyN6aic2gdstbxR4fICKyaMy"
    },
    "kernelspec": {
      "name": "python3",
      "display_name": "Python 3"
    },
    "language_info": {
      "name": "python"
    }
  },
  "cells": [
    {
      "cell_type": "code",
      "execution_count": null,
      "metadata": {
        "colab": {
          "base_uri": "https://localhost:8080/"
        },
        "id": "ViCsthjmPg4G",
        "outputId": "ca79bc2f-3a76-43ac-fc3b-cf66f9238df4"
      },
      "outputs": [
        {
          "output_type": "stream",
          "name": "stdout",
          "text": [
            "Pyramid using for loop:\n",
            "    *\n",
            "   ***\n",
            "  *****\n",
            " *******\n",
            "*********\n",
            "\n",
            "Pyramid using while loop:\n",
            "    *\n",
            "   ***\n",
            "  *****\n",
            " *******\n",
            "*********\n",
            "\n",
            "Inverted Pyramid using for loop:\n",
            "*********\n",
            " *******\n",
            "  *****\n",
            "   ***\n",
            "    *\n",
            "\n",
            "Inverted Pyramid using while loop:\n",
            "*********\n",
            " *******\n",
            "  *****\n",
            "   ***\n",
            "    *\n",
            "\n",
            "Right Aligned Pyramid using for loop:\n",
            "    *\n",
            "   **\n",
            "  ***\n",
            " ****\n",
            "*****\n",
            "\n",
            "Right Aligned Pyramid using while loop:\n",
            "    *\n",
            "   **\n",
            "  ***\n",
            " ****\n",
            "*****\n"
          ]
        }
      ],
      "source": [
        "# prompt: Create different types of pyramids with for and while loop both\n",
        "\n",
        "def pyramid_for(rows):\n",
        "    for i in range(rows):\n",
        "        print(\" \" * (rows - i - 1) + \"*\" * (2 * i + 1))\n",
        "\n",
        "def pyramid_while(rows):\n",
        "    i = 0\n",
        "    while i < rows:\n",
        "        print(\" \" * (rows - i - 1) + \"*\" * (2 * i + 1))\n",
        "        i += 1\n",
        "\n",
        "def inverted_pyramid_for(rows):\n",
        "    for i in range(rows, 0, -1):\n",
        "        print(\" \" * (rows - i) + \"*\" * (2 * i - 1))\n",
        "\n",
        "def inverted_pyramid_while(rows):\n",
        "    i = rows\n",
        "    while i > 0:\n",
        "        print(\" \" * (rows - i) + \"*\" * (2 * i - 1))\n",
        "        i -= 1\n",
        "\n",
        "def right_aligned_pyramid_for(rows):\n",
        "    for i in range(1, rows + 1):\n",
        "        print(\" \" * (rows - i) + \"*\" * i)\n",
        "\n",
        "def right_aligned_pyramid_while(rows):\n",
        "    i = 1\n",
        "    while i <= rows:\n",
        "        print(\" \" * (rows - i) + \"*\" * i)\n",
        "        i += 1\n",
        "\n",
        "\n",
        "# Example usage\n",
        "rows = 5\n",
        "print(\"Pyramid using for loop:\")\n",
        "pyramid_for(rows)\n",
        "print(\"\\nPyramid using while loop:\")\n",
        "pyramid_while(rows)\n",
        "\n",
        "print(\"\\nInverted Pyramid using for loop:\")\n",
        "inverted_pyramid_for(rows)\n",
        "print(\"\\nInverted Pyramid using while loop:\")\n",
        "inverted_pyramid_while(rows)\n",
        "\n",
        "print(\"\\nRight Aligned Pyramid using for loop:\")\n",
        "right_aligned_pyramid_for(rows)\n",
        "print(\"\\nRight Aligned Pyramid using while loop:\")\n",
        "right_aligned_pyramid_while(rows)"
      ]
    },
    {
      "cell_type": "code",
      "source": [
        "# prompt: Print the Fibonacci series for first 12 numbers\n",
        "\n",
        "def fibonacci(n):\n",
        "    a, b = 0, 1\n",
        "    for _ in range(n):\n",
        "        print(a, end=\" \")\n",
        "        a, b = b, a + b\n",
        "\n",
        "fibonacci(12)"
      ],
      "metadata": {
        "colab": {
          "base_uri": "https://localhost:8080/"
        },
        "id": "oHcFawQ4Qnv2",
        "outputId": "a8e97be2-5c22-44d1-d495-b9636eae0c86"
      },
      "execution_count": null,
      "outputs": [
        {
          "output_type": "stream",
          "name": "stdout",
          "text": [
            "0 1 1 2 3 5 8 13 21 34 55 89 "
          ]
        }
      ]
    },
    {
      "cell_type": "code",
      "source": [
        "# prompt: Write a program to check palindrome number.\n",
        "\n",
        "def is_palindrome(number):\n",
        "    \"\"\"\n",
        "    Checks if a given number is a palindrome.\n",
        "\n",
        "    Args:\n",
        "      number: The number to check.\n",
        "\n",
        "    Returns:\n",
        "      True if the number is a palindrome, False otherwise.\n",
        "    \"\"\"\n",
        "    original_number = number\n",
        "    reversed_number = 0\n",
        "    while number > 0:\n",
        "        reversed_number = reversed_number * 10 + number % 10\n",
        "        number //= 10\n",
        "    return original_number == reversed_number\n",
        "\n",
        "# Example usage\n",
        "number = 121\n",
        "if is_palindrome(number):\n",
        "    print(f\"{number} is a palindrome number\")\n",
        "else:\n",
        "    print(f\"{number} is not a palindrome number\")\n",
        "\n",
        "number = 123\n",
        "if is_palindrome(number):\n",
        "    print(f\"{number} is a palindrome number\")\n",
        "else:\n",
        "    print(f\"{number} is not a palindrome number\")"
      ],
      "metadata": {
        "colab": {
          "base_uri": "https://localhost:8080/"
        },
        "id": "HbLUOmeVRPtP",
        "outputId": "6aa0282e-4e50-4fb0-97d7-fa43f1327347"
      },
      "execution_count": null,
      "outputs": [
        {
          "output_type": "stream",
          "name": "stdout",
          "text": [
            "121 is a palindrome number\n",
            "123 is not a palindrome number\n"
          ]
        }
      ]
    },
    {
      "cell_type": "code",
      "source": [
        "# prompt: Write a program to check Armstrong number\n",
        "\n",
        "def is_armstrong(num):\n",
        "    \"\"\"\n",
        "    Checks if a given number is an Armstrong number.\n",
        "\n",
        "    Args:\n",
        "      num: The number to check.\n",
        "\n",
        "    Returns:\n",
        "      True if the number is an Armstrong number, False otherwise.\n",
        "    \"\"\"\n",
        "    num_str = str(num)\n",
        "    num_digits = len(num_str)\n",
        "    sum_of_powers = 0\n",
        "    for digit in num_str:\n",
        "        sum_of_powers += int(digit) ** num_digits\n",
        "    return sum_of_powers == num\n",
        "\n",
        "\n",
        "# Example usage\n",
        "number = 153\n",
        "if is_armstrong(number):\n",
        "    print(f\"{number} is an Armstrong number\")\n",
        "else:\n",
        "    print(f\"{number} is not an Armstrong number\")\n",
        "\n",
        "number = 370\n",
        "if is_armstrong(number):\n",
        "    print(f\"{number} is an Armstrong number\")\n",
        "else:\n",
        "    print(f\"{number} is not an Armstrong number\")\n",
        "\n",
        "number = 371\n",
        "if is_armstrong(number):\n",
        "    print(f\"{number} is an Armstrong number\")\n",
        "else:\n",
        "    print(f\"{number} is not an Armstrong number\")"
      ],
      "metadata": {
        "id": "Apyd2cg8SEFF"
      },
      "execution_count": null,
      "outputs": []
    },
    {
      "cell_type": "code",
      "source": [
        "# prompt: Write a program to print sum of digits\n",
        "\n",
        "def sum_of_digits(number):\n",
        "    \"\"\"\n",
        "    Calculates the sum of digits of a given number.\n",
        "\n",
        "    Args:\n",
        "      number: The input number.\n",
        "\n",
        "    Returns:\n",
        "      The sum of digits of the number.\n",
        "    \"\"\"\n",
        "    sum_digits = 0\n",
        "    while number > 0:\n",
        "        digit = number % 10\n",
        "        sum_digits += digit\n",
        "        number //= 10  # Integer division to remove the last digit\n",
        "    return sum_digits\n",
        "\n",
        "\n",
        "# Example usage\n",
        "number = 12345\n",
        "digit_sum = sum_of_digits(number)\n",
        "print(f\"The sum of digits of {number} is: {digit_sum}\")"
      ],
      "metadata": {
        "colab": {
          "base_uri": "https://localhost:8080/"
        },
        "id": "nRKDSeUPSjAv",
        "outputId": "2e1cfe23-f349-4eb6-d2da-a5a43543d74c"
      },
      "execution_count": null,
      "outputs": [
        {
          "output_type": "stream",
          "name": "stdout",
          "text": [
            "The sum of digits of 12345 is: 15\n"
          ]
        }
      ]
    },
    {
      "cell_type": "code",
      "source": [
        "# prompt: How to find the factorial of number 5.\n",
        "\n",
        "def factorial(n):\n",
        "    if n == 0:\n",
        "        return 1\n",
        "    else:\n",
        "        return n * factorial(n-1)\n",
        "\n",
        "number = 5\n",
        "print(f\"The factorial of {number} is {factorial(number)}\")"
      ],
      "metadata": {
        "colab": {
          "base_uri": "https://localhost:8080/"
        },
        "id": "DlGOr-_OTlYU",
        "outputId": "6aaeb7e0-def6-4f97-c7be-a96528dfecc1"
      },
      "execution_count": null,
      "outputs": [
        {
          "output_type": "stream",
          "name": "stdout",
          "text": [
            "The factorial of 5 is 120\n"
          ]
        }
      ]
    },
    {
      "cell_type": "code",
      "source": [
        "# prompt: Write a program to check whether a number is prime or not\n",
        "\n",
        "def is_prime(number):\n",
        "    \"\"\"\n",
        "    Checks if a given number is prime.\n",
        "\n",
        "    Args:\n",
        "        number: The number to check.\n",
        "\n",
        "    Returns:\n",
        "        True if the number is prime, False otherwise.\n",
        "    \"\"\"\n",
        "    if number <= 1:\n",
        "        return False\n",
        "    if number <= 3:\n",
        "        return True\n",
        "    if number % 2 == 0 or number % 3 == 0:\n",
        "        return False\n",
        "    i = 5\n",
        "    while i * i <= number:\n",
        "        if number % i == 0 or number % (i + 2) == 0:\n",
        "            return False\n",
        "        i += 6\n",
        "    return True\n",
        "\n",
        "# Example usage\n",
        "number = 17\n",
        "if is_prime(number):\n",
        "    print(f\"{number} is a prime number\")\n",
        "else:\n",
        "    print(f\"{number} is not a prime number\")\n",
        "\n",
        "number = 20\n",
        "if is_prime(number):\n",
        "    print(f\"{number} is a prime number\")\n",
        "else:\n",
        "    print(f\"{number} is not a prime number\")"
      ],
      "metadata": {
        "colab": {
          "base_uri": "https://localhost:8080/"
        },
        "id": "_UrrGu3oTyz4",
        "outputId": "85ce9097-e849-4f6a-9238-175035b20540"
      },
      "execution_count": null,
      "outputs": [
        {
          "output_type": "stream",
          "name": "stdout",
          "text": [
            "17 is a prime number\n",
            "20 is not a prime number\n"
          ]
        }
      ]
    },
    {
      "cell_type": "code",
      "source": [
        "for i in range(1,10+1):\n",
        "   for j in range(1,i+1):\n",
        "      print(i, end=\"\")\n",
        "   print(\"\\n\")"
      ],
      "metadata": {
        "colab": {
          "base_uri": "https://localhost:8080/"
        },
        "id": "LMG-baIR_c7C",
        "outputId": "f933fc56-a57b-4fcc-c2a5-578907a82368"
      },
      "execution_count": null,
      "outputs": [
        {
          "output_type": "stream",
          "name": "stdout",
          "text": [
            "1\n",
            "\n",
            "22\n",
            "\n",
            "333\n",
            "\n",
            "4444\n",
            "\n",
            "55555\n",
            "\n",
            "666666\n",
            "\n",
            "7777777\n",
            "\n",
            "88888888\n",
            "\n",
            "999999999\n",
            "\n",
            "10101010101010101010\n",
            "\n"
          ]
        }
      ]
    },
    {
      "cell_type": "code",
      "source": [
        "# Number of rows\n",
        "rows = int(input(\"Enter the number of rows: \"))\n",
        "\n",
        "i = 1   # Current row number\n",
        "num = 1 # Current number to print\n",
        "\n",
        "while i <= rows:\n",
        "    j = 1  # Counter for numbers in the current row\n",
        "    while j <= i:\n",
        "        print(num, end=\"\")\n",
        "        num += 1\n",
        "        j += 1\n",
        "    print()  # Move to the next line after each row\n",
        "    i += 1"
      ],
      "metadata": {
        "colab": {
          "base_uri": "https://localhost:8080/"
        },
        "id": "nainlBC9AvXa",
        "outputId": "b9ee7f84-7d1e-4d61-8228-6ee022ab2ac4"
      },
      "execution_count": null,
      "outputs": [
        {
          "output_type": "stream",
          "name": "stdout",
          "text": [
            "Enter the number of rows: 6\n",
            "1\n",
            "23\n",
            "456\n",
            "78910\n",
            "1112131415\n",
            "161718192021\n"
          ]
        }
      ]
    },
    {
      "source": [
        "num = int(input(\"Enter a number: \"))\n",
        "b = 0\n",
        "p = 1\n",
        "n = num\n",
        "while n > 0:\n",
        "    rem = n % 2\n",
        "    b += rem * p\n",
        "    p = p * 10\n",
        "    n = n // 2\n",
        "print(\"Binary value: \", b)"
      ],
      "cell_type": "code",
      "metadata": {
        "id": "QnCUFuHU6g07",
        "outputId": "3bcabf3e-8e27-449a-8c8e-c420bb3f3571",
        "colab": {
          "base_uri": "https://localhost:8080/"
        }
      },
      "execution_count": null,
      "outputs": [
        {
          "output_type": "stream",
          "name": "stdout",
          "text": [
            "Enter a number: 50\n",
            "Binary value:  110010\n"
          ]
        }
      ]
    },
    {
      "cell_type": "code",
      "source": [
        "rows=int(input(\"enter :\"))\n",
        "i=1\n",
        "num =1\n",
        "while i<=rows:\n",
        "  j=1\n",
        "  while j<i:\n",
        "   print(num,end=\" \")\n",
        "   num+=1\n",
        "   j+=1\n",
        "  i+=1\n",
        "  print()"
      ],
      "metadata": {
        "colab": {
          "base_uri": "https://localhost:8080/"
        },
        "id": "BPc9N2aZq2sl",
        "outputId": "366862cb-686c-42f8-bbf1-f9b4375a2152"
      },
      "execution_count": null,
      "outputs": [
        {
          "output_type": "stream",
          "name": "stdout",
          "text": [
            "enter :8\n",
            "1 2 3 4 5 6 7 8 9 10 11 12 13 14 15 16 17 18 19 20 21 22 23 24 25 26 27 28 "
          ]
        }
      ]
    },
    {
      "cell_type": "code",
      "source": [
        "import calendar\n",
        "yy = int(input(\"Enter year:\"))\n",
        "mm = int(input(\"Enter month:\"))\n",
        "print(calendar.month(yy,mm))"
      ],
      "metadata": {
        "colab": {
          "base_uri": "https://localhost:8080/"
        },
        "id": "WZpvZOLHGSBQ",
        "outputId": "9293c8d1-b321-4dd0-cc4b-5dfd43669b9b"
      },
      "execution_count": null,
      "outputs": [
        {
          "output_type": "stream",
          "name": "stdout",
          "text": [
            "Enter year:2000\n",
            "Enter month:09\n",
            "   September 2000\n",
            "Mo Tu We Th Fr Sa Su\n",
            "             1  2  3\n",
            " 4  5  6  7  8  9 10\n",
            "11 12 13 14 15 16 17\n",
            "18 19 20 21 22 23 24\n",
            "25 26 27 28 29 30\n",
            "\n"
          ]
        }
      ]
    }
  ]
}