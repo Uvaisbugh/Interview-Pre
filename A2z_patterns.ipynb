{
  "nbformat": 4,
  "nbformat_minor": 0,
  "metadata": {
    "colab": {
      "provenance": [],
      "authorship_tag": "ABX9TyP88JuhhmBHg9zt/ndo5Fih",
      "include_colab_link": true
    },
    "kernelspec": {
      "name": "python3",
      "display_name": "Python 3"
    },
    "language_info": {
      "name": "python"
    }
  },
  "cells": [
    {
      "cell_type": "markdown",
      "metadata": {
        "id": "view-in-github",
        "colab_type": "text"
      },
      "source": [
        "<a href=\"https://colab.research.google.com/github/Uvaisbugh/Interview-Pre/blob/main/A2z_patterns.ipynb\" target=\"_parent\"><img src=\"https://colab.research.google.com/assets/colab-badge.svg\" alt=\"Open In Colab\"/></a>"
      ]
    },
    {
      "cell_type": "code",
      "execution_count": 1,
      "metadata": {
        "colab": {
          "base_uri": "https://localhost:8080/"
        },
        "id": "SERyyO_p5LDM",
        "outputId": "839ab870-1f63-4cfe-8487-286e15a9952b"
      },
      "outputs": [
        {
          "output_type": "stream",
          "name": "stdout",
          "text": [
            "* * * * * \n",
            "* * * * * \n",
            "* * * * * \n",
            "* * * * * \n",
            "* * * * * \n"
          ]
        }
      ],
      "source": [
        "def nForest(n: int) -> None:\n",
        "    # Write your solution here.\n",
        "    for i in range(n):\n",
        "        for j in range(n):\n",
        "            print(\"*\", end=\" \")\n",
        "        print()\n",
        "\n",
        "nForest(5)"
      ]
    },
    {
      "cell_type": "code",
      "source": [
        "def nForest1(n:int) ->None:\n",
        "    for i in range(n+1):\n",
        "        for j in range(i):\n",
        "            print(\"*\", end=\" \")\n",
        "        print()\n",
        "nForest1(5)"
      ],
      "metadata": {
        "colab": {
          "base_uri": "https://localhost:8080/"
        },
        "id": "1NxqezmYaD4E",
        "outputId": "aec1012f-4314-4713-ac23-f2e1a97eb69c"
      },
      "execution_count": 2,
      "outputs": [
        {
          "output_type": "stream",
          "name": "stdout",
          "text": [
            "\n",
            "* \n",
            "* * \n",
            "* * * \n",
            "* * * * \n",
            "* * * * * \n"
          ]
        }
      ]
    },
    {
      "cell_type": "code",
      "source": [
        "def nForest2(n:int) ->None:\n",
        "    for i in range(n+1):\n",
        "        for j in range(i):\n",
        "            print(j+1, end=\" \")\n",
        "        print()\n",
        "nForest2(5)"
      ],
      "metadata": {
        "colab": {
          "base_uri": "https://localhost:8080/"
        },
        "id": "lew9yXsDbMoN",
        "outputId": "54d85eb4-a456-4d9e-db6b-495e61dce208"
      },
      "execution_count": 3,
      "outputs": [
        {
          "output_type": "stream",
          "name": "stdout",
          "text": [
            "\n",
            "1 \n",
            "1 2 \n",
            "1 2 3 \n",
            "1 2 3 4 \n",
            "1 2 3 4 5 \n"
          ]
        }
      ]
    },
    {
      "cell_type": "code",
      "source": [
        "def triangle( n:int) ->None:\n",
        "    for i in range(n+1):\n",
        "        for j in range(i):\n",
        "            print(i, end=\" \")\n",
        "        print()\n",
        "triangle(7)"
      ],
      "metadata": {
        "colab": {
          "base_uri": "https://localhost:8080/"
        },
        "id": "xhDSvDdseD8x",
        "outputId": "f9de0d38-158c-48d4-d003-ec169a4e78a5"
      },
      "execution_count": 4,
      "outputs": [
        {
          "output_type": "stream",
          "name": "stdout",
          "text": [
            "\n",
            "1 \n",
            "2 2 \n",
            "3 3 3 \n",
            "4 4 4 4 \n",
            "5 5 5 5 5 \n",
            "6 6 6 6 6 6 \n",
            "7 7 7 7 7 7 7 \n"
          ]
        }
      ]
    },
    {
      "cell_type": "code",
      "source": [
        "def y_pettern(n):\n",
        "  for i in range(n,0,-1):\n",
        "    for j in range(i):\n",
        "      print(\"*\",end=\" \")\n",
        "    print()\n",
        "y_pettern(7)"
      ],
      "metadata": {
        "colab": {
          "base_uri": "https://localhost:8080/"
        },
        "id": "RiU5I7Qwe3kb",
        "outputId": "7db958a7-4ef2-488a-8b4e-6ecfb26753ac"
      },
      "execution_count": 5,
      "outputs": [
        {
          "output_type": "stream",
          "name": "stdout",
          "text": [
            "* * * * * * * \n",
            "* * * * * * \n",
            "* * * * * \n",
            "* * * * \n",
            "* * * \n",
            "* * \n",
            "* \n"
          ]
        }
      ]
    },
    {
      "cell_type": "code",
      "source": [
        "def y_numbers(n):\n",
        "  for i in range(n,0,-1):\n",
        "    for j in range(i):\n",
        "      print(j+1,end=\" \")\n",
        "    print()\n",
        "y_numbers(7)"
      ],
      "metadata": {
        "colab": {
          "base_uri": "https://localhost:8080/"
        },
        "id": "OxVYoEsegPFx",
        "outputId": "823668c7-149e-48ee-ae84-d2c1d8309654"
      },
      "execution_count": 6,
      "outputs": [
        {
          "output_type": "stream",
          "name": "stdout",
          "text": [
            "1 2 3 4 5 6 7 \n",
            "1 2 3 4 5 6 \n",
            "1 2 3 4 5 \n",
            "1 2 3 4 \n",
            "1 2 3 \n",
            "1 2 \n",
            "1 \n"
          ]
        }
      ]
    },
    {
      "source": [
        "def nStarTriangle(n: int) -> None:\n",
        "    stars = 1\n",
        "    empty = n-1\n",
        "    for i in range(n):\n",
        "        print(\"{}{}{}\".format(' '*empty, '*'*stars, ' '*empty))\n",
        "        stars+=2\n",
        "        empty-=1\n",
        "nStarTriangle(7)"
      ],
      "cell_type": "code",
      "metadata": {
        "colab": {
          "base_uri": "https://localhost:8080/"
        },
        "id": "_bNDyaDErxPA",
        "outputId": "afb37a31-f2de-491a-c604-2e57c6b56e47"
      },
      "execution_count": 8,
      "outputs": [
        {
          "output_type": "stream",
          "name": "stdout",
          "text": [
            "      *      \n",
            "     ***     \n",
            "    *****    \n",
            "   *******   \n",
            "  *********  \n",
            " *********** \n",
            "*************\n"
          ]
        }
      ]
    },
    {
      "cell_type": "code",
      "source": [
        "def pyramid(n):\n",
        "  stars=2* n - 1\n",
        "  empty= 1\n",
        "  for i in range(n+1):\n",
        "    print(\"{}{}{}\".format(' '*empty, '*'*stars, ' '*empty))\n",
        "    stars-=2\n",
        "    empty+=1\n",
        "\n",
        "pyramid(7)\n",
        "\n"
      ],
      "metadata": {
        "colab": {
          "base_uri": "https://localhost:8080/"
        },
        "id": "OuujoYXahWjq",
        "outputId": "8a319ab9-9463-4a51-b8cd-971bebee57c1"
      },
      "execution_count": 10,
      "outputs": [
        {
          "output_type": "stream",
          "name": "stdout",
          "text": [
            " ************* \n",
            "  ***********  \n",
            "   *********   \n",
            "    *******    \n",
            "     *****     \n",
            "      ***      \n",
            "       *       \n",
            "                \n"
          ]
        }
      ]
    },
    {
      "cell_type": "code",
      "source": [
        "def nStarDiamond(n: int) -> None:\n",
        "    star=1\n",
        "    empty= n-1\n",
        "    for i in range(n):\n",
        "        print(\"{}{}{}\".format(' '*empty,'*'*star,' '*empty))\n",
        "        star +=2\n",
        "        empty -=1\n",
        "\n",
        "    star =2*n -1\n",
        "    empty = 0\n",
        "    for j in range(n):\n",
        "        print(\"{}{}{}\".format(' '*empty,'*'*star,' '*empty))\n",
        "        star -=2\n",
        "        empty +=1\n",
        "\n",
        "nStarDiamond(5)"
      ],
      "metadata": {
        "colab": {
          "base_uri": "https://localhost:8080/"
        },
        "id": "NdPSAB76ENKx",
        "outputId": "de8c8272-f173-419b-bd5d-13204152db32"
      },
      "execution_count": 11,
      "outputs": [
        {
          "output_type": "stream",
          "name": "stdout",
          "text": [
            "    *    \n",
            "   ***   \n",
            "  *****  \n",
            " ******* \n",
            "*********\n",
            "*********\n",
            " ******* \n",
            "  *****  \n",
            "   ***   \n",
            "    *    \n"
          ]
        }
      ]
    },
    {
      "cell_type": "code",
      "source": [
        "def draw(n):\n",
        "  i = 1\n",
        "  while i< n:\n",
        "    print('*'*i)\n",
        "    i +=1\n",
        "  while i>0:\n",
        "    print('*'*i)\n",
        "    i -=1\n",
        "\n",
        "\n",
        "\n",
        "draw(5)"
      ],
      "metadata": {
        "colab": {
          "base_uri": "https://localhost:8080/"
        },
        "id": "qf9es5rpwJ0O",
        "outputId": "02c745de-a887-4625-885a-300c323a446e"
      },
      "execution_count": 12,
      "outputs": [
        {
          "output_type": "stream",
          "name": "stdout",
          "text": [
            "*\n",
            "**\n",
            "***\n",
            "****\n",
            "*****\n",
            "****\n",
            "***\n",
            "**\n",
            "*\n"
          ]
        }
      ]
    },
    {
      "cell_type": "code",
      "source": [
        "def nBinaryTriangle(n: int) -> None:\n",
        "    for i in range(1, n + 1):\n",
        "        for j in range(i):\n",
        "            print((j + i) % 2, end=\" \")\n",
        "        print()\n",
        "\n",
        "nBinaryTriangle(6)"
      ],
      "metadata": {
        "colab": {
          "base_uri": "https://localhost:8080/"
        },
        "id": "HNkSBqlezlKm",
        "outputId": "e8fc38bd-b8a6-4655-d5f8-ffc1cdfdbfc6"
      },
      "execution_count": 13,
      "outputs": [
        {
          "output_type": "stream",
          "name": "stdout",
          "text": [
            "1 \n",
            "0 1 \n",
            "1 0 1 \n",
            "0 1 0 1 \n",
            "1 0 1 0 1 \n",
            "0 1 0 1 0 1 \n"
          ]
        }
      ]
    },
    {
      "cell_type": "code",
      "source": [
        "'''\n",
        "    Time Complexity - O( N * N )\n",
        "    Space Complexity - O( 1 )\n",
        "\n",
        "    where N is the given input.\n",
        "'''\n",
        "\n",
        "\n",
        "def nBinaryTriangle2(n: int) -> None:\n",
        "\n",
        "    # Initialise 'num'.\n",
        "    num = 1\n",
        "    for i in range(n):\n",
        "        for j in range(1, num+1):\n",
        "            print((i + j) & 1, end=\" \")\n",
        "\n",
        "        # End the current line.\n",
        "        print()\n",
        "\n",
        "        num += 1\n",
        "\n",
        "nBinaryTriangle2(6)"
      ],
      "metadata": {
        "colab": {
          "base_uri": "https://localhost:8080/"
        },
        "id": "XeE_s8ZNS-XT",
        "outputId": "052ca7ae-85df-4a38-f8a0-1e88d61a5541"
      },
      "execution_count": 14,
      "outputs": [
        {
          "output_type": "stream",
          "name": "stdout",
          "text": [
            "1 \n",
            "0 1 \n",
            "1 0 1 \n",
            "0 1 0 1 \n",
            "1 0 1 0 1 \n",
            "0 1 0 1 0 1 \n"
          ]
        }
      ]
    },
    {
      "cell_type": "code",
      "source": [
        "n=4\n",
        "for i in range(n):\n",
        "  print(\" \"*(n-i)+\"*\"*(2*i+1))\n",
        "for i in range(n-2,-1,-1):\n",
        "  print(\" \"*(n-i)+\"*\"*(2*i+1))"
      ],
      "metadata": {
        "colab": {
          "base_uri": "https://localhost:8080/"
        },
        "id": "1wqCLMqanm0n",
        "outputId": "310ce65f-55e9-4ee0-95b6-529a9496fe94"
      },
      "execution_count": 15,
      "outputs": [
        {
          "output_type": "stream",
          "name": "stdout",
          "text": [
            "    *\n",
            "   ***\n",
            "  *****\n",
            " *******\n",
            "  *****\n",
            "   ***\n",
            "    *\n"
          ]
        }
      ]
    },
    {
      "cell_type": "code",
      "source": [
        "for i in range(n):\n",
        "  if i==0:\n",
        "    print(\" \"*(n-i)+\"*\"*((2*(i))+1))\n",
        "  else:\n",
        "    print(\" \"*(n-i)+\"*\"+\" \"*((2*(i-1))+1)+'*')\n",
        "\n",
        "for i in range(n,-1,-1):\n",
        "  if i==0:\n",
        "    print(\" \"*(n-i)+\"*\"*((2*(i))+1))\n",
        "  else:\n",
        "    print(\" \"*(n-i)+\"*\"+\" \"*((2*(i-1))+1)+'*')"
      ],
      "metadata": {
        "colab": {
          "base_uri": "https://localhost:8080/"
        },
        "id": "wts4ReT-oE28",
        "outputId": "bab4e8ab-5ce0-47f5-f0b9-c53da76f3835"
      },
      "execution_count": 16,
      "outputs": [
        {
          "output_type": "stream",
          "name": "stdout",
          "text": [
            "    *\n",
            "   * *\n",
            "  *   *\n",
            " *     *\n",
            "*       *\n",
            " *     *\n",
            "  *   *\n",
            "   * *\n",
            "    *\n"
          ]
        }
      ]
    },
    {
      "cell_type": "code",
      "source": [
        "n=5\n",
        "for i in range(1,n+1):\n",
        "  for j in range(n,0,-1):\n",
        "    if (i>=j) :\n",
        "      print(i,end=\" \")\n",
        "    else:\n",
        "      print(\" \", end=\" \")\n",
        "  print()"
      ],
      "metadata": {
        "colab": {
          "base_uri": "https://localhost:8080/"
        },
        "id": "HFG1O-y4EfJb",
        "outputId": "56647219-db97-4f23-f968-96d25ad4a85b"
      },
      "execution_count": 17,
      "outputs": [
        {
          "output_type": "stream",
          "name": "stdout",
          "text": [
            "        1 \n",
            "      2 2 \n",
            "    3 3 3 \n",
            "  4 4 4 4 \n",
            "5 5 5 5 5 \n"
          ]
        }
      ]
    },
    {
      "cell_type": "code",
      "source": [
        "1      1\n",
        "12    12\n",
        "123  123\n",
        "12341234"
      ],
      "metadata": {
        "id": "qnvJArR9FC37"
      },
      "execution_count": null,
      "outputs": []
    },
    {
      "cell_type": "code",
      "source": [
        " n=9\n",
        " for i in range(1, n+1):\n",
        "        for j in range(1, i+1):\n",
        "            print(j, end=' ')\n",
        "        for space in range(1, 4*(n-i)+1):\n",
        "            print(end=' ')\n",
        "        for j in range(i, 0, -1):\n",
        "            print(j, end=' ')\n",
        "        print()\n"
      ],
      "metadata": {
        "colab": {
          "base_uri": "https://localhost:8080/"
        },
        "id": "dPdKfpere5Q9",
        "outputId": "63d0b965-a2d4-419b-e205-21c86cb8aa3b"
      },
      "execution_count": 18,
      "outputs": [
        {
          "output_type": "stream",
          "name": "stdout",
          "text": [
            "1                                 1 \n",
            "1 2                             2 1 \n",
            "1 2 3                         3 2 1 \n",
            "1 2 3 4                     4 3 2 1 \n",
            "1 2 3 4 5                 5 4 3 2 1 \n",
            "1 2 3 4 5 6             6 5 4 3 2 1 \n",
            "1 2 3 4 5 6 7         7 6 5 4 3 2 1 \n",
            "1 2 3 4 5 6 7 8     8 7 6 5 4 3 2 1 \n",
            "1 2 3 4 5 6 7 8 9 9 8 7 6 5 4 3 2 1 \n"
          ]
        }
      ]
    },
    {
      "cell_type": "code",
      "source": [
        "'''\n",
        "    Time Complexity - O( N * N )\n",
        "    Space Complexity - O( 1 )\n",
        "\n",
        "    where N is the given input.\n",
        "'''\n",
        "\n",
        "\n",
        "def numberCrown(n: int) -> None:\n",
        "\n",
        "    # Initialise 'num'.\n",
        "    num = 1\n",
        "    gap = (n - 1) * 2\n",
        "    for i in range(n):\n",
        "        currentNumber = 1\n",
        "        for j in range(1, num+1):\n",
        "            print(currentNumber, end=\" \")\n",
        "            currentNumber += 1\n",
        "        for j in range(1, gap+1):\n",
        "            print(\" \", end=\" \")\n",
        "        currentNumber -= 1\n",
        "        for j in range(1, num+1):\n",
        "            print(currentNumber, end=\" \")\n",
        "            currentNumber -= 1\n",
        "\n",
        "        # End the current line.\n",
        "        print()\n",
        "\n",
        "        num += 1\n",
        "        gap -= 2\n",
        "numberCrown(5)"
      ],
      "metadata": {
        "colab": {
          "base_uri": "https://localhost:8080/"
        },
        "id": "zGixXE3Mli6e",
        "outputId": "cedba552-07ed-4883-b47b-72bcb6b261d9"
      },
      "execution_count": 19,
      "outputs": [
        {
          "output_type": "stream",
          "name": "stdout",
          "text": [
            "1                 1 \n",
            "1 2             2 1 \n",
            "1 2 3         3 2 1 \n",
            "1 2 3 4     4 3 2 1 \n",
            "1 2 3 4 5 5 4 3 2 1 \n"
          ]
        }
      ]
    },
    {
      "cell_type": "code",
      "source": [
        "count=1\n",
        "n=5\n",
        "for i in range(n+1):\n",
        "  for j in range(i):\n",
        "    print(count, end=\" \")\n",
        "    count +=1\n",
        "  print()\n"
      ],
      "metadata": {
        "colab": {
          "base_uri": "https://localhost:8080/"
        },
        "id": "Jju6oCJ7pQ9p",
        "outputId": "fdce22cc-75b8-4daa-d685-e3c833512e59"
      },
      "execution_count": 20,
      "outputs": [
        {
          "output_type": "stream",
          "name": "stdout",
          "text": [
            "\n",
            "1 \n",
            "2 3 \n",
            "4 5 6 \n",
            "7 8 9 10 \n",
            "11 12 13 14 15 \n"
          ]
        }
      ]
    },
    {
      "cell_type": "code",
      "source": [
        "'''\n",
        "    Time Complexity - O( N * N )\n",
        "    Space Complexity - O( 1 )\n",
        "\n",
        "    where N is the given input.\n",
        "'''\n",
        "\n",
        "\n",
        "def nNumberTriangle(n: int):\n",
        "\n",
        "    # Initialise 'num'.\n",
        "    num = 1\n",
        "    currentNumber = 1\n",
        "    for i in range(n):\n",
        "        for j in range(1, num+1):\n",
        "            print(currentNumber, end=\" \")\n",
        "            currentNumber += 1\n",
        "        print()\n",
        "        num += 1\n",
        "nNumberTriangle(5)"
      ],
      "metadata": {
        "id": "c-TnFg3SqFsv",
        "colab": {
          "base_uri": "https://localhost:8080/"
        },
        "outputId": "041de4a4-a8bc-43dd-e825-1f169c686dbd"
      },
      "execution_count": 22,
      "outputs": [
        {
          "output_type": "stream",
          "name": "stdout",
          "text": [
            "1 \n",
            "2 3 \n",
            "4 5 6 \n",
            "7 8 9 10 \n",
            "11 12 13 14 15 \n"
          ]
        }
      ]
    },
    {
      "cell_type": "code",
      "source": [
        "def nLetterTriangle(n: int) -> None:\n",
        "    base =64\n",
        "    for i in range(1,n+1):\n",
        "        for j in range(1,i+1):\n",
        "            print(chr(base+j),end=\" \")\n",
        "        print()\n",
        "    pass\n",
        "nLetterTriangle(5)"
      ],
      "metadata": {
        "colab": {
          "base_uri": "https://localhost:8080/"
        },
        "id": "58y3c-q10r34",
        "outputId": "e1856fb3-1b2c-43a6-808d-56e89f52f2bf"
      },
      "execution_count": 23,
      "outputs": [
        {
          "output_type": "stream",
          "name": "stdout",
          "text": [
            "A \n",
            "A B \n",
            "A B C \n",
            "A B C D \n",
            "A B C D E \n"
          ]
        }
      ]
    },
    {
      "cell_type": "code",
      "source": [
        "'''\n",
        "    Time Complexity - O( N * N )\n",
        "    Space Complexity - O(1)\n",
        "\n",
        "    where N is the given input.\n",
        "'''\n",
        "\n",
        "\n",
        "def nLetterTriangle(n: int):\n",
        "\n",
        "    # Initialise 'num'.\n",
        "    num = 1\n",
        "    for i in range(n):\n",
        "        currentCharacter = 65\n",
        "        for j in range(1, num+1):\n",
        "            print(chr(currentCharacter), end=\" \")\n",
        "            currentCharacter += 1\n",
        "        num += 1\n",
        "        print()\n",
        "nLetterTriangle(5)"
      ],
      "metadata": {
        "id": "yTrsA2Uc5OID",
        "colab": {
          "base_uri": "https://localhost:8080/"
        },
        "outputId": "88ee46d1-3b18-4518-ee67-39f086a8f42e"
      },
      "execution_count": 25,
      "outputs": [
        {
          "output_type": "stream",
          "name": "stdout",
          "text": [
            "A \n",
            "A B \n",
            "A B C \n",
            "A B C D \n",
            "A B C D E \n"
          ]
        }
      ]
    },
    {
      "cell_type": "code",
      "source": [
        "def letter(n):\n",
        "  import random\n",
        "  base =64\n",
        "  for i in range(n):\n",
        "    for j in range(1,i+1):\n",
        "      rnd=random.randint(0,25)\n",
        "      print(chr(rnd+base),end=\"\")\n",
        "    print()\n",
        "\n",
        "letter(7)"
      ],
      "metadata": {
        "colab": {
          "base_uri": "https://localhost:8080/"
        },
        "id": "h8eTfcu00scs",
        "outputId": "dd18095a-b801-425e-817d-8ae706618a72"
      },
      "execution_count": 26,
      "outputs": [
        {
          "output_type": "stream",
          "name": "stdout",
          "text": [
            "\n",
            "N\n",
            "WQ\n",
            "M@U\n",
            "A@KG\n",
            "VXWRU\n",
            "TLPTEG\n"
          ]
        }
      ]
    },
    {
      "cell_type": "code",
      "source": [
        "def nLetterTriangle(n: int):\n",
        "    for i in range(n, 0, -1):  # Start from n rows and decrement\n",
        "        for j in range(1, i + 1):  # Iterate through the columns for the row\n",
        "            print(chr(ord('A') + j - 1), end=\" \")  # Calculate letter using ord\n",
        "        print()  # Move to the next line\n",
        "nLetterTriangle(5)"
      ],
      "metadata": {
        "colab": {
          "base_uri": "https://localhost:8080/"
        },
        "id": "dNwUw0g65PkW",
        "outputId": "6f7427db-1f5e-4a2d-b8b2-58dd52ae8dd2"
      },
      "execution_count": 27,
      "outputs": [
        {
          "output_type": "stream",
          "name": "stdout",
          "text": [
            "A B C D E \n",
            "A B C D \n",
            "A B C \n",
            "A B \n",
            "A \n"
          ]
        }
      ]
    },
    {
      "cell_type": "code",
      "source": [
        "'''\n",
        "    Time Complexity - O( N * N )\n",
        "    Space Complexity - O(1)\n",
        "\n",
        "    where N is the given input.\n",
        "'''\n",
        "\n",
        "\n",
        "def nLetterTriangle(n: int):\n",
        "\n",
        "    # Initialise 'num'.\n",
        "    num = n\n",
        "    for i in range(n):\n",
        "        currentCharacter = 65\n",
        "        for j in range(1, num+1):\n",
        "            print(chr(currentCharacter), end=\" \")\n",
        "            currentCharacter += 1\n",
        "        print()\n",
        "        num -= 1\n",
        "nLetterTriangle(6)"
      ],
      "metadata": {
        "colab": {
          "base_uri": "https://localhost:8080/"
        },
        "id": "HqRu1OSs6qZz",
        "outputId": "cde4b4d4-b945-42e0-f7e0-038fa750ea37"
      },
      "execution_count": 28,
      "outputs": [
        {
          "output_type": "stream",
          "name": "stdout",
          "text": [
            "A B C D E F \n",
            "A B C D E \n",
            "A B C D \n",
            "A B C \n",
            "A B \n",
            "A \n"
          ]
        }
      ]
    },
    {
      "cell_type": "code",
      "source": [
        "n=3\n",
        "for i in range(1,n+1):\n",
        "  for j in range(i):\n",
        "    print(chr(ord('A')+i - 1), end= \" \")\n",
        "  print()"
      ],
      "metadata": {
        "colab": {
          "base_uri": "https://localhost:8080/"
        },
        "id": "AXbhfhKq8l1P",
        "outputId": "604a0513-ddbb-4057-d07e-ad115eeab052"
      },
      "execution_count": 29,
      "outputs": [
        {
          "output_type": "stream",
          "name": "stdout",
          "text": [
            "A \n",
            "B B \n",
            "C C C \n"
          ]
        }
      ]
    },
    {
      "cell_type": "code",
      "source": [
        "'''\n",
        "    Time Complexity : O( N*N )\n",
        "    Space complexity: O( 1 )\n",
        "\n",
        "    Where N is the input integer.\n",
        "'''\n",
        "\n",
        "\n",
        "def alphaRamp(n: int):\n",
        "    # For loop ‘row’ in range 0 to N-1.\n",
        "    for row in range(n):\n",
        "        # For loop ‘col’ in range 0 to row.\n",
        "        for col in range(row+1):\n",
        "            # Print (char)(col+65).\n",
        "            print((chr)(row+65), end=\" \")\n",
        "        print()\n",
        "alphaRamp(5)"
      ],
      "metadata": {
        "id": "nAV7ujuSGu0h",
        "colab": {
          "base_uri": "https://localhost:8080/"
        },
        "outputId": "c92910a7-7a88-4eef-c900-2380c74b48b1"
      },
      "execution_count": 31,
      "outputs": [
        {
          "output_type": "stream",
          "name": "stdout",
          "text": [
            "A \n",
            "B B \n",
            "C C C \n",
            "D D D D \n",
            "E E E E E \n"
          ]
        }
      ]
    },
    {
      "cell_type": "code",
      "source": [
        "def alphaRamp(n: int) -> None:\n",
        "\n",
        "    for i in range(1,n+1):\n",
        "\n",
        "        c=chr(64+i)\n",
        "\n",
        "        print((c+\" \")*i)\n",
        "\n",
        "alphaRamp(6)"
      ],
      "metadata": {
        "colab": {
          "base_uri": "https://localhost:8080/"
        },
        "id": "beL4S4JJG9TC",
        "outputId": "2ecdfab3-3d72-48bf-f913-6e16f99f7b05"
      },
      "execution_count": 32,
      "outputs": [
        {
          "output_type": "stream",
          "name": "stdout",
          "text": [
            "A \n",
            "B B \n",
            "C C C \n",
            "D D D D \n",
            "E E E E E \n",
            "F F F F F F \n"
          ]
        }
      ]
    },
    {
      "cell_type": "code",
      "source": [
        "    A\n",
        "   ABA\n",
        "  ABCBA"
      ],
      "metadata": {
        "id": "h42tyBugILdY"
      },
      "execution_count": null,
      "outputs": []
    },
    {
      "cell_type": "code",
      "source": [
        "n=5\n",
        "for row in range(1,n+1):\n",
        "  spaces=n-row\n",
        "  print(\"  \"*spaces,end=\"\")\n",
        "  for col in range(1,row+1):\n",
        "    c=chr(ord('A')+col-1)\n",
        "    print(c,end=\" \")\n",
        "  for col in range(row-1,0,-1):\n",
        "    c=chr(ord('A')+col-1)\n",
        "    print(c,end=\" \")\n",
        "  print()\n"
      ],
      "metadata": {
        "colab": {
          "base_uri": "https://localhost:8080/"
        },
        "id": "sWsJOHg6NdEr",
        "outputId": "ef26e695-954f-4590-b4e3-2230cd5dca0c"
      },
      "execution_count": 34,
      "outputs": [
        {
          "output_type": "stream",
          "name": "stdout",
          "text": [
            "        A \n",
            "      A B A \n",
            "    A B C B A \n",
            "  A B C D C B A \n",
            "A B C D E D C B A \n"
          ]
        }
      ]
    },
    {
      "cell_type": "code",
      "source": [
        "def alphaHill(n: int):\n",
        "    for row in range(1, n + 1):\n",
        "        # Print leading spaces\n",
        "        print(\"  \" * (n - row), end=\"\")\n",
        "\n",
        "        # Generate increasing and decreasing parts\n",
        "        letters = [chr(ord('A') + col - 1) for col in range(1, row + 1)]\n",
        "        print(\" \".join(letters + letters[-2::-1]))\n",
        "alphaHill(6)"
      ],
      "metadata": {
        "colab": {
          "base_uri": "https://localhost:8080/"
        },
        "id": "Pf8eyg2FUcVK",
        "outputId": "d401f370-f875-4bbd-9dcb-284e4a2bd6fa"
      },
      "execution_count": 36,
      "outputs": [
        {
          "output_type": "stream",
          "name": "stdout",
          "text": [
            "          A\n",
            "        A B A\n",
            "      A B C B A\n",
            "    A B C D C B A\n",
            "  A B C D E D C B A\n",
            "A B C D E F E D C B A\n"
          ]
        }
      ]
    },
    {
      "cell_type": "code",
      "source": [
        "E\n",
        "D E\n",
        "C D E\n",
        "B C D E\n",
        "A B C D E\n"
      ],
      "metadata": {
        "id": "6rJqKhv2Wgdl"
      },
      "execution_count": null,
      "outputs": []
    },
    {
      "cell_type": "code",
      "source": [
        "def alphaTriangle(n: int):\n",
        "    for row in range(1,n+1):\n",
        "        for col in range(1,row+1):\n",
        "            c= chr(64+n-col+1)\n",
        "            print(f\"{c}\",end=\" \")\n",
        "        print()\n",
        "\n",
        "alphaTriangle(5)"
      ],
      "metadata": {
        "colab": {
          "base_uri": "https://localhost:8080/"
        },
        "id": "7jEKvy-TWsVn",
        "outputId": "f01ad1ba-17cc-4b21-f0a8-de5bc6295a00"
      },
      "execution_count": 37,
      "outputs": [
        {
          "output_type": "stream",
          "name": "stdout",
          "text": [
            "E \n",
            "E D \n",
            "E D C \n",
            "E D C B \n",
            "E D C B A \n"
          ]
        }
      ]
    },
    {
      "cell_type": "code",
      "source": [
        "'''\n",
        "    Time Complexity : O( N*N )\n",
        "    Space complexity: O( 1 )\n",
        "\n",
        "    Where N is the input integer.\n",
        "'''\n",
        "\n",
        "\n",
        "def alphaTriangle(n: int):\n",
        "    # For loop ‘row’ in range 0 to N-1.\n",
        "    for row in range(n):\n",
        "        # For loop ‘col’ in range 0 to row.\n",
        "        for col in range(row+1):\n",
        "            # Print (char)(N-col+64).\n",
        "            print((chr)(n-col+64), end=\" \")\n",
        "        print()\n",
        "alphaTriangle(5)"
      ],
      "metadata": {
        "id": "iGa7-jiJYvKm",
        "colab": {
          "base_uri": "https://localhost:8080/"
        },
        "outputId": "7bfc6835-8ace-42d9-eb8c-da5ab78bd98a"
      },
      "execution_count": 38,
      "outputs": [
        {
          "output_type": "stream",
          "name": "stdout",
          "text": [
            "E \n",
            "E D \n",
            "E D C \n",
            "E D C B \n",
            "E D C B A \n"
          ]
        }
      ]
    },
    {
      "cell_type": "code",
      "source": [
        "def symmetry(n: int):\n",
        "    # Upper part of the pattern\n",
        "    for i in range(n):\n",
        "        print(\"* \" * (n - i), end=\"\")  # Decreasing stars\n",
        "        print(\" \" * (2 * i), end=\"\")   # Increasing spaces\n",
        "        print(\"* \" * (n - i))          # Decreasing stars\n",
        "\n",
        "    # Lower part of the pattern\n",
        "    for i in range(1, n + 1):\n",
        "        print(\"* \" * i, end=\"\")        # Increasing stars\n",
        "        print(\" \" * (2 * (n - i)), end=\"\")  # Decreasing spaces\n",
        "        print(\"* \" * i)                # Increasing stars\n",
        "symmetry(5)"
      ],
      "metadata": {
        "colab": {
          "base_uri": "https://localhost:8080/"
        },
        "id": "Xb4-GBIvZNxu",
        "outputId": "ac571056-30b3-4caa-e107-9c35f27a1ac0"
      },
      "execution_count": 39,
      "outputs": [
        {
          "output_type": "stream",
          "name": "stdout",
          "text": [
            "* * * * * * * * * * \n",
            "* * * *   * * * * \n",
            "* * *     * * * \n",
            "* *       * * \n",
            "*         * \n",
            "*         * \n",
            "* *       * * \n",
            "* * *     * * * \n",
            "* * * *   * * * * \n",
            "* * * * * * * * * * \n"
          ]
        }
      ]
    },
    {
      "cell_type": "code",
      "source": [
        "for i in range(1, n + 1):\n",
        "  # Print the left stars\n",
        "  print(\"* \" * i, end=\"\")\n",
        "  # Print spaces in the middle\n",
        "  print(\"  \" * (n - i), end=\"\")\n",
        "  # Print the right stars\n",
        "  print(\"* \" * i)\n",
        "\n",
        "    # Bottom half\n",
        "  for i in range(n - 1, 0, -1):\n",
        "        # Print the left stars\n",
        "      print(\"* \" * i, end=\"\")\n",
        "        # Print spaces in the middle\n",
        "      print(\"  \" * (n - i), end=\"\")\n",
        "        # Print the right stars\n",
        "      print(\"* \" * i)"
      ],
      "metadata": {
        "id": "ZSWzOMYcMxEx",
        "colab": {
          "base_uri": "https://localhost:8080/"
        },
        "outputId": "e71bfa29-8db5-47b9-816a-23a1f71500a5"
      },
      "execution_count": 42,
      "outputs": [
        {
          "output_type": "stream",
          "name": "stdout",
          "text": [
            "*         * \n",
            "* * * *   * * * * \n",
            "* * *     * * * \n",
            "* *       * * \n",
            "*         * \n",
            "* *       * * \n",
            "* * * *   * * * * \n",
            "* * *     * * * \n",
            "* *       * * \n",
            "*         * \n",
            "* * *     * * * \n",
            "* * * *   * * * * \n",
            "* * *     * * * \n",
            "* *       * * \n",
            "*         * \n",
            "* * * *   * * * * \n",
            "* * * *   * * * * \n",
            "* * *     * * * \n",
            "* *       * * \n",
            "*         * \n",
            "* * * * * * * * * * \n",
            "* * * *   * * * * \n",
            "* * *     * * * \n",
            "* *       * * \n",
            "*         * \n"
          ]
        }
      ]
    },
    {
      "cell_type": "code",
      "source": [
        "'''\n",
        "    Time Complexity : O( N*N )\n",
        "    Space complexity: O( 1 )\n",
        "\n",
        "    Where N is the input integer.\n",
        "'''\n",
        "\n",
        "\n",
        "def symmetry(n: int):\n",
        "    # Update n with 2*n\n",
        "\n",
        "    n = 2*n\n",
        "    # For loop ‘row’ in range 0 to N-2.\n",
        "    for row in range(n-1):\n",
        "        # For loop ‘col’ in range 0 to N-1.\n",
        "        for col in range(n):\n",
        "            # Condition for first half of the rows.\n",
        "            if (row < n/2 and (col <= row or col >= (n-row-1))):\n",
        "                print('*', end=\" \")\n",
        "            # Condition for the second half of the rows.\n",
        "            if (row >= n/2 and (col < (n-row-1) or col > row)):\n",
        "                print('*', end=\" \")\n",
        "            if (row < n/2 and not (col <= row or col >= (n-row-1))):\n",
        "                print(' ', end=\" \")\n",
        "            if (row >= n/2 and not (col < (n-row-1) or col > row)):\n",
        "                print(' ', end=\" \")\n",
        "        print()\n",
        "symmetry(5)"
      ],
      "metadata": {
        "id": "CmiFUq8ZbVBf",
        "colab": {
          "base_uri": "https://localhost:8080/"
        },
        "outputId": "60056252-96e2-44cd-d348-5e4048395441"
      },
      "execution_count": 43,
      "outputs": [
        {
          "output_type": "stream",
          "name": "stdout",
          "text": [
            "*                 * \n",
            "* *             * * \n",
            "* * *         * * * \n",
            "* * * *     * * * * \n",
            "* * * * * * * * * * \n",
            "* * * *     * * * * \n",
            "* * *         * * * \n",
            "* *             * * \n",
            "*                 * \n"
          ]
        }
      ]
    },
    {
      "cell_type": "code",
      "source": [
        "# Write your solution here.\n",
        "n=7\n",
        "def write(n):\n",
        "    for i in range(1, n + 1):\n",
        "        # Print the left stars\n",
        "        print(\"* \" * i, end=\"\")\n",
        "        # Print spaces in the middle\n",
        "        print(\"  \" * (n - i), end=\"\")\n",
        "        # Print the right stars\n",
        "        print(\"* \" * i)\n",
        "\n",
        "    # Bottom half\n",
        "    for i in range(n - 1, 0, -1):\n",
        "        # Print the left stars\n",
        "        print(\"* \" * i, end=\"\")\n",
        "        # Print spaces in the middle\n",
        "        print(\"  \" * (n - i), end=\"\")\n",
        "        # Print the right stars\n",
        "        print(\"* \" * i)\n",
        "write(7)"
      ],
      "metadata": {
        "colab": {
          "base_uri": "https://localhost:8080/"
        },
        "id": "y76d4e61dw8r",
        "outputId": "e939dae2-57d4-40b4-fa23-36f4d964c93f"
      },
      "execution_count": 44,
      "outputs": [
        {
          "output_type": "stream",
          "name": "stdout",
          "text": [
            "*             * \n",
            "* *           * * \n",
            "* * *         * * * \n",
            "* * * *       * * * * \n",
            "* * * * *     * * * * * \n",
            "* * * * * *   * * * * * * \n",
            "* * * * * * * * * * * * * * \n",
            "* * * * * *   * * * * * * \n",
            "* * * * *     * * * * * \n",
            "* * * *       * * * * \n",
            "* * *         * * * \n",
            "* *           * * \n",
            "*             * \n"
          ]
        }
      ]
    },
    {
      "cell_type": "code",
      "source": [
        "def getNumberPattern(n: int) -> None:\n",
        "    # Write your solution here.\n",
        "    size = 2 * n - 1  # Total number of rows and columns in the square\n",
        "    for i in range(size):\n",
        "        for j in range(size):\n",
        "            # Calculate the number to be printed based on the distance from the edges\n",
        "            num = n - min(i, j, size - 1 - i, size - 1 - j)\n",
        "            print(num, end=\"\")\n",
        "        print()\n",
        "getNumberPattern(5)"
      ],
      "metadata": {
        "colab": {
          "base_uri": "https://localhost:8080/"
        },
        "id": "m4JeA19LeEg9",
        "outputId": "520bbde4-ebf7-4008-f9f5-ee02ad613ccd"
      },
      "execution_count": 45,
      "outputs": [
        {
          "output_type": "stream",
          "name": "stdout",
          "text": [
            "555555555\n",
            "544444445\n",
            "543333345\n",
            "543222345\n",
            "543212345\n",
            "543222345\n",
            "543333345\n",
            "544444445\n",
            "555555555\n"
          ]
        }
      ]
    },
    {
      "cell_type": "code",
      "source": [
        "def symmetry(n: int):\n",
        "    # Write your solution here.\n",
        "    for i in range(1, n + 1):\n",
        "        # Print the left stars\n",
        "        print(\"* \" * i, end=\"\")\n",
        "        # Print spaces in the middle\n",
        "        print(\"  \" * (n - i), end=\"\")\n",
        "        # Print the right stars\n",
        "        print(\"* \" * i)\n",
        "\n",
        "    # Bottom half\n",
        "    for i in range(n - 1, 0, -1):\n",
        "        # Print the left stars\n",
        "        print(\"* \" * i, end=\"\")\n",
        "        # Print spaces in the middle\n",
        "        print(\"  \" * (n - i), end=\"\")\n",
        "        # Print the right stars\n",
        "        print(\"* \" * i)\n",
        "symmetry(5)"
      ],
      "metadata": {
        "colab": {
          "base_uri": "https://localhost:8080/"
        },
        "id": "VOpeV3b7dxv1",
        "outputId": "ee52b34b-ac16-4b97-a23f-66001fb491b0"
      },
      "execution_count": 46,
      "outputs": [
        {
          "output_type": "stream",
          "name": "stdout",
          "text": [
            "*         * \n",
            "* *       * * \n",
            "* * *     * * * \n",
            "* * * *   * * * * \n",
            "* * * * * * * * * * \n",
            "* * * *   * * * * \n",
            "* * *     * * * \n",
            "* *       * * \n",
            "*         * \n"
          ]
        }
      ]
    },
    {
      "cell_type": "code",
      "source": [],
      "metadata": {
        "id": "5CHtgihMfTrl"
      },
      "execution_count": null,
      "outputs": []
    }
  ]
}