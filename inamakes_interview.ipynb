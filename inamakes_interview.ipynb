{
  "nbformat": 4,
  "nbformat_minor": 0,
  "metadata": {
    "colab": {
      "provenance": [],
      "authorship_tag": "ABX9TyPwurcDrRNpE47RCFcJw/xI",
      "include_colab_link": true
    },
    "kernelspec": {
      "name": "python3",
      "display_name": "Python 3"
    },
    "language_info": {
      "name": "python"
    }
  },
  "cells": [
    {
      "cell_type": "markdown",
      "metadata": {
        "id": "view-in-github",
        "colab_type": "text"
      },
      "source": [
        "<a href=\"https://colab.research.google.com/github/Uvaisbugh/Interview-Pre/blob/main/inamakes_interview.ipynb\" target=\"_parent\"><img src=\"https://colab.research.google.com/assets/colab-badge.svg\" alt=\"Open In Colab\"/></a>"
      ]
    },
    {
      "cell_type": "code",
      "execution_count": 1,
      "metadata": {
        "colab": {
          "base_uri": "https://localhost:8080/"
        },
        "id": "n55SYISiaBPi",
        "outputId": "396f2cee-17a0-4b1b-b092-61daa14f8bda"
      },
      "outputs": [
        {
          "output_type": "stream",
          "name": "stdout",
          "text": [
            "He\n",
            "said\n",
            "Thats\n",
            "what\n",
            "he\n",
            "said"
          ]
        }
      ],
      "source": [
        "#Q1 string_filter\n",
        "def string_filter(string):\n",
        "  #cleaned\n",
        "  cleaned_string = \"\"\n",
        "  for char in string:\n",
        "    if char.isalpha() or char == ' ':\n",
        "      cleaned_string += char\n",
        "  #newline\n",
        "  for char in cleaned_string:\n",
        "    if char == ' ':\n",
        "      print(\"\\n\", end='')\n",
        "    else:\n",
        "      print(char, end='')\n",
        "\n",
        "input_string = \"\"\"He said, That's what he said!\"\"\"\n",
        "string_filter(input_string)\n"
      ]
    },
    {
      "cell_type": "code",
      "source": [
        " #Q2 String reverse\n",
        "def reverse_string(string):\n",
        "  words=[]\n",
        "  word =''\n",
        "\n",
        "  for char in string:\n",
        "    if char == '.':\n",
        "      words.append(word)\n",
        "      words.append(\".\")\n",
        "      word =''\n",
        "    else:\n",
        "      word += char\n",
        "  words.append(word)\n",
        "\n",
        "  #reverse words\n",
        "  left ,right =0, len(words)-1\n",
        "  while left < right:\n",
        "    words[left], words[right] = words[right], words[left]\n",
        "    left += 1\n",
        "    right -= 1\n",
        "  return ''.join(words)\n",
        "\n",
        "\n",
        "\n",
        "# Example usage\n",
        "string = \"hello.world.this.is.python\"\n",
        "print(reverse_string(string))  # Output: \"python.is.this.world.hello\""
      ],
      "metadata": {
        "colab": {
          "base_uri": "https://localhost:8080/"
        },
        "id": "jKUA5aYkaXtD",
        "outputId": "5860d7a2-2cce-4d6d-9d8e-ea5abbb8f262"
      },
      "execution_count": 13,
      "outputs": [
        {
          "output_type": "stream",
          "name": "stdout",
          "text": [
            "python.is.this.world.hello\n"
          ]
        }
      ]
    },
    {
      "cell_type": "code",
      "source": [
        "#pattern 01\n",
        "def pascal_triangle(n):\n",
        "    triangle = []  # This will store the rows of Pascal's Triangle\n",
        "\n",
        "    # Generate the rows\n",
        "    for i in range(n):\n",
        "        row = [1] * (i + 1)  # Start with a row filled with 1's\n",
        "\n",
        "        # Fill the inner elements (excluding the 1's)\n",
        "        for j in range(1, i):\n",
        "            row[j] = triangle[i - 1][j - 1] + triangle[i - 1][j]\n",
        "\n",
        "        triangle.append(row)  # Add the row to the triangle\n",
        "\n",
        "        # Print the row with spaces for alignment\n",
        "        print(\" \" * (n - i - 1), end=\"\")  # Center the row\n",
        "        print(\" \".join(map(str, row)))  # Print the row with spaces\n",
        "\n",
        "# Call the function for n = 5\n",
        "pascal_triangle(5)\n"
      ],
      "metadata": {
        "colab": {
          "base_uri": "https://localhost:8080/"
        },
        "id": "1pZsxkAMcRbz",
        "outputId": "38c2f73a-9d2e-4296-e94e-8c18ca3cf630"
      },
      "execution_count": 14,
      "outputs": [
        {
          "output_type": "stream",
          "name": "stdout",
          "text": [
            "    1\n",
            "   1 1\n",
            "  1 2 1\n",
            " 1 3 3 1\n",
            "1 4 6 4 1\n"
          ]
        }
      ]
    },
    {
      "cell_type": "code",
      "source": [
        "#pattern 02\n",
        "def pattern(n):\n",
        "  for i in range(1,n+1):\n",
        "    for j in range(1,n+1):\n",
        "      print(max(i,j), end=' ')\n",
        "    print()\n",
        "pattern(5)"
      ],
      "metadata": {
        "colab": {
          "base_uri": "https://localhost:8080/"
        },
        "id": "2Y1BgFqri6Tq",
        "outputId": "25eb9d66-9b22-4417-fea0-ea3d26d8f479"
      },
      "execution_count": 15,
      "outputs": [
        {
          "output_type": "stream",
          "name": "stdout",
          "text": [
            "1 2 3 4 5 \n",
            "2 2 3 4 5 \n",
            "3 3 3 4 5 \n",
            "4 4 4 4 5 \n",
            "5 5 5 5 5 \n"
          ]
        }
      ]
    },
    {
      "cell_type": "code",
      "source": [
        "#pattern 03\n",
        "def pattern(n):\n",
        "  for i in range(1,n+1):\n",
        "    for j in range(1,i+1):\n",
        "      print(i*j, end=' ')\n",
        "    print()\n",
        "pattern(5)"
      ],
      "metadata": {
        "colab": {
          "base_uri": "https://localhost:8080/"
        },
        "id": "HXmSOng7l_xA",
        "outputId": "b3c4de44-d267-459d-e1ae-a705efa53b9b"
      },
      "execution_count": 16,
      "outputs": [
        {
          "output_type": "stream",
          "name": "stdout",
          "text": [
            "1 \n",
            "2 4 \n",
            "3 6 9 \n",
            "4 8 12 16 \n",
            "5 10 15 20 25 \n"
          ]
        }
      ]
    },
    {
      "cell_type": "code",
      "source": [
        "#pattern 04\n",
        "def pattern(n):\n",
        "  count = 1\n",
        "  for i in range(1,n+1,2):\n",
        "    for j in range(1,i+1):\n",
        "      print(count, end=' ')\n",
        "      count += 1\n",
        "    print()\n",
        "pattern(5)\n"
      ],
      "metadata": {
        "colab": {
          "base_uri": "https://localhost:8080/"
        },
        "id": "ARRCPTdRmqLa",
        "outputId": "19aa8c9e-453e-482a-f087-7a0c1467f85d"
      },
      "execution_count": 17,
      "outputs": [
        {
          "output_type": "stream",
          "name": "stdout",
          "text": [
            "1 \n",
            "2 3 4 \n",
            "5 6 7 8 9 \n"
          ]
        }
      ]
    },
    {
      "cell_type": "code",
      "source": [
        "#pattern 05\n",
        "def pattern(n):\n",
        "  for i in range(1,n+1):\n",
        "    space = ' '*(n-i)\n",
        "    print(space, end=' ')\n",
        "    for j in range(i,0,-1):\n",
        "      print((chr)(n-j+64+1), end=' ')\n",
        "    print()\n",
        "pattern(5)\n",
        "\n",
        "\n",
        ""
      ],
      "metadata": {
        "colab": {
          "base_uri": "https://localhost:8080/"
        },
        "id": "sBuv-FGJnO5l",
        "outputId": "18ba6c3b-074c-4b3c-d203-e6eac6427cc0"
      },
      "execution_count": 20,
      "outputs": [
        {
          "output_type": "stream",
          "name": "stdout",
          "text": [
            "     E \n",
            "    D E \n",
            "   C D E \n",
            "  B C D E \n",
            " A B C D E \n"
          ]
        }
      ]
    },
    {
      "cell_type": "code",
      "source": [
        "#pattern 06\n",
        "def pattern(n):\n",
        "  for i in range(n,0,-1):\n",
        "    for j in range(i,0,-1):\n",
        "      print(j, end=' ')\n",
        "    print()\n",
        "pattern(5)"
      ],
      "metadata": {
        "colab": {
          "base_uri": "https://localhost:8080/"
        },
        "id": "aCUlLjymnpcE",
        "outputId": "f9d376e2-d2b4-4d67-fdb0-c14f87a47635"
      },
      "execution_count": 21,
      "outputs": [
        {
          "output_type": "stream",
          "name": "stdout",
          "text": [
            "5 4 3 2 1 \n",
            "4 3 2 1 \n",
            "3 2 1 \n",
            "2 1 \n",
            "1 \n"
          ]
        }
      ]
    },
    {
      "cell_type": "code",
      "source": [
        "#pattern 07\n",
        "def pattern(n):\n",
        "  for i in range(n,0,-1):\n",
        "    for j in range(i):\n",
        "        print('*' ,end=\" \")\n",
        "    print()\n",
        "\n",
        "pattern(5)"
      ],
      "metadata": {
        "colab": {
          "base_uri": "https://localhost:8080/"
        },
        "id": "3CgRqlEUrPZi",
        "outputId": "28bcb93b-d810-4714-917f-a075a77001fc"
      },
      "execution_count": 31,
      "outputs": [
        {
          "output_type": "stream",
          "name": "stdout",
          "text": [
            "* * * * * \n",
            "* * * * \n",
            "* * * \n",
            "* * \n",
            "* \n"
          ]
        }
      ]
    },
    {
      "cell_type": "code",
      "source": [
        "#pattern 08\n",
        "def pattern(n):\n",
        "  for i in range(1,n+1):\n",
        "    for j in range(i):\n",
        "      print('*' , end='')\n",
        "    print(\"\\n\")\n",
        "  print(\"\\n\")\n",
        "  for i in range(n,0,-1):\n",
        "    for j in range(i):\n",
        "      print('*' , end='')\n",
        "    print(\"\\n\")\n",
        "pattern(5)"
      ],
      "metadata": {
        "colab": {
          "base_uri": "https://localhost:8080/"
        },
        "id": "gI6OhdVhsPxN",
        "outputId": "0c8166a0-b04f-49b0-a408-f8ff158c75c1"
      },
      "execution_count": 41,
      "outputs": [
        {
          "output_type": "stream",
          "name": "stdout",
          "text": [
            "*\n",
            "\n",
            "**\n",
            "\n",
            "***\n",
            "\n",
            "****\n",
            "\n",
            "*****\n",
            "\n",
            "\n",
            "\n",
            "*****\n",
            "\n",
            "****\n",
            "\n",
            "***\n",
            "\n",
            "**\n",
            "\n",
            "*\n",
            "\n"
          ]
        }
      ]
    },
    {
      "cell_type": "code",
      "source": [
        "#pattern 09\n",
        "def pattern(n):\n",
        "  for i in range(n,0,-1):\n",
        "    print(' '*(n-i), end='')\n",
        "    for j in range(i):\n",
        "      print(\"*\", end=' ')\n",
        "    print('\\n')\n",
        "  for i in range(1,n+1):\n",
        "    print(' '*(n-i), end='')\n",
        "    for j in range(i):\n",
        "      print(\"*\", end=' ')\n",
        "    print('\\n')\n",
        "pattern(5)"
      ],
      "metadata": {
        "colab": {
          "base_uri": "https://localhost:8080/"
        },
        "id": "Z1mNt2eKvkDp",
        "outputId": "77ffef85-c69c-4ddf-d07b-922693a2664f"
      },
      "execution_count": 48,
      "outputs": [
        {
          "output_type": "stream",
          "name": "stdout",
          "text": [
            "* * * * * \n",
            "\n",
            " * * * * \n",
            "\n",
            "  * * * \n",
            "\n",
            "   * * \n",
            "\n",
            "    * \n",
            "\n",
            "    * \n",
            "\n",
            "   * * \n",
            "\n",
            "  * * * \n",
            "\n",
            " * * * * \n",
            "\n",
            "* * * * * \n",
            "\n"
          ]
        }
      ]
    },
    {
      "cell_type": "code",
      "source": [
        "#pattern 10\n",
        "def pattern(n):\n",
        "  for i in range(n):\n",
        "    if i==0:\n",
        "      print(\" \"*(n-i)+\"*\"*((2*(i))+1))\n",
        "    else:\n",
        "      print(\" \"*(n-i)+\"*\"+\" \"*((2*(i-1))+1)+'*')\n",
        "\n",
        "  for i in range(n,-1,-1):\n",
        "    if i==0:\n",
        "      print(\" \"*(n-i)+\"*\"*((2*(i))+1))\n",
        "    else:\n",
        "     print(\" \"*(n-i)+\"*\"+\" \"*((2*(i-1))+1)+'*')\n",
        "pattern(5)"
      ],
      "metadata": {
        "colab": {
          "base_uri": "https://localhost:8080/"
        },
        "id": "_eNTFdk7H5rb",
        "outputId": "d51ce097-4ab9-463a-c2b9-93c4db518c95"
      },
      "execution_count": 50,
      "outputs": [
        {
          "output_type": "stream",
          "name": "stdout",
          "text": [
            "     *\n",
            "    * *\n",
            "   *   *\n",
            "  *     *\n",
            " *       *\n",
            "*         *\n",
            " *       *\n",
            "  *     *\n",
            "   *   *\n",
            "    * *\n",
            "     *\n"
          ]
        }
      ]
    },
    {
      "cell_type": "code",
      "source": [
        "#pattern 11\n",
        "n=5\n",
        "for i in range(n+1):\n",
        "\tx=n*2\n",
        "\tfor j in range(i):\n",
        "\t\tprint(x,end=' ')\n",
        "\t\tx-=2\n",
        "\tprint()"
      ],
      "metadata": {
        "colab": {
          "base_uri": "https://localhost:8080/"
        },
        "id": "A3UgsJc2H--q",
        "outputId": "6eebe114-b0ff-4460-ceb8-5ac01d290d18"
      },
      "execution_count": 55,
      "outputs": [
        {
          "output_type": "stream",
          "name": "stdout",
          "text": [
            "\n",
            "10 \n",
            "10 8 \n",
            "10 8 6 \n",
            "10 8 6 4 \n",
            "10 8 6 4 2 \n"
          ]
        }
      ]
    },
    {
      "cell_type": "code",
      "source": [
        "#pattern 12\n",
        "n=5\n",
        "\n",
        "for i in range(4,0,-1):\n",
        "\tfor j in range(1,i+1):\n",
        "\t\tprint(j,end=\"*\") if j != i else print(j, end=\"\")\n",
        "\tprint()"
      ],
      "metadata": {
        "colab": {
          "base_uri": "https://localhost:8080/"
        },
        "id": "eZ7MB1slLR1U",
        "outputId": "dc9d6b45-c751-4bdb-a673-4d16d717af71"
      },
      "execution_count": 56,
      "outputs": [
        {
          "output_type": "stream",
          "name": "stdout",
          "text": [
            "1*2*3*4\n",
            "1*2*3\n",
            "1*2\n",
            "1\n"
          ]
        }
      ]
    },
    {
      "cell_type": "code",
      "source": [
        "#Q4\n",
        "\n",
        "string = \"Python is A Progeamming Language \"\n",
        "\n",
        "\n",
        "def lower_upper(s):\n",
        "\tl_dic = {\n",
        "\t\t\"upper\": 0,\n",
        "\t\t\"lower\": 0\n",
        "\t}\n",
        "\tfor letter in string:\n",
        "\t\tif letter.isupper():\n",
        "\t\t\tl_dic[\"upper\"] += 1\n",
        "\t\telif letter.islower():\n",
        "\t\t\tl_dic[\"lower\"] += 1\n",
        "\treturn l_dic\n",
        "\n",
        "\n",
        "print(lower_upper(string))"
      ],
      "metadata": {
        "colab": {
          "base_uri": "https://localhost:8080/"
        },
        "id": "MirNviYzLqeQ",
        "outputId": "523c67b3-aedc-483b-9fa5-482d1a35043d"
      },
      "execution_count": 57,
      "outputs": [
        {
          "output_type": "stream",
          "name": "stdout",
          "text": [
            "{'upper': 4, 'lower': 24}\n"
          ]
        }
      ]
    },
    {
      "cell_type": "code",
      "source": [
        "#Q5⭐\n",
        "def is_prime(n):\n",
        "\tif n < 2:\n",
        "\t\treturn False\n",
        "\tfor i in range(2, int(n ** 0.5) + 1):\n",
        "\t\tif n % i == 0:\n",
        "\t\t\treturn False\n",
        "\treturn True\n",
        "\n",
        "\n",
        "num = 17\n",
        "print(is_prime(num))\n"
      ],
      "metadata": {
        "colab": {
          "base_uri": "https://localhost:8080/"
        },
        "id": "ihZmp4IRMQWS",
        "outputId": "09d6f5d7-6972-4270-b2d0-ed0f967a9107"
      },
      "execution_count": 65,
      "outputs": [
        {
          "output_type": "stream",
          "name": "stdout",
          "text": [
            "True\n"
          ]
        }
      ]
    },
    {
      "cell_type": "code",
      "source": [
        "#Q6\n",
        "def value_swap(a,b):\n",
        "\ta, b = b, a\n",
        "\treturn a, b\n",
        "\n",
        "print(value_swap(6,7))\n"
      ],
      "metadata": {
        "colab": {
          "base_uri": "https://localhost:8080/"
        },
        "id": "UjHK8GbLMhru",
        "outputId": "f23e107a-04eb-42e1-8d02-ae02b34416ff"
      },
      "execution_count": 58,
      "outputs": [
        {
          "output_type": "stream",
          "name": "stdout",
          "text": [
            "(7, 6)\n"
          ]
        }
      ]
    },
    {
      "cell_type": "code",
      "source": [
        "#Q7\n",
        "class SubsetGenerator:\n",
        "    def __init__(self, nums):\n",
        "        self.nums = nums\n",
        "\n",
        "    def get_subsets(self):\n",
        "        result = [[]]  # Start with an empty subset\n",
        "        for num in self.nums:\n",
        "            result += [subset + [num] for subset in result]  # Generate new subsets\n",
        "        return result\n",
        "\n",
        "# Example usage\n",
        "nums = [4, 5, 6]\n",
        "generator = SubsetGenerator(nums)\n",
        "print(generator.get_subsets())\n"
      ],
      "metadata": {
        "id": "t2m-AeBiMusi"
      },
      "execution_count": null,
      "outputs": []
    },
    {
      "cell_type": "code",
      "source": [
        "#Q8\n",
        "from abc import ABC, abstractmethod\n",
        "\n",
        "class Car(ABC):\n",
        "\t@abstractmethod\n",
        "\tdef sound(self):\n",
        "\t\tpass\n",
        "\n",
        "\n",
        "class Honda(Car):\n",
        "\tdef sound(self):\n",
        "\t\treturn \"phooo!\"\n",
        "\n",
        "\n",
        "class Benz(Car):\n",
        "\tdef sound(self):\n",
        "\t\treturn \"phaaa!\"\n",
        "\n",
        "\n",
        "class Vw(Car):\n",
        "\tdef sound(self):\n",
        "\t\treturn \"phee!\"\n",
        "\n",
        "\n",
        "# def horn(car):\n",
        "# \tprint(car.sound())\n",
        "\n",
        "Accord = Honda()\n",
        "S_class = Benz()\n",
        "gti = Vw()\n",
        "\n",
        "print(Accord.sound())\n",
        "print(S_class.sound())\n",
        "print(gti.sound())\n",
        "# horn(Accord)\n",
        "# horn(S_class)\n",
        "# horn(Vw)\n",
        "#\n"
      ],
      "metadata": {
        "colab": {
          "base_uri": "https://localhost:8080/"
        },
        "id": "qbLnaeHfN0mb",
        "outputId": "c742394f-3401-4c2e-f352-d09542c7f9ab"
      },
      "execution_count": 66,
      "outputs": [
        {
          "output_type": "stream",
          "name": "stdout",
          "text": [
            "phooo!\n",
            "phaaa!\n",
            "phee!\n"
          ]
        }
      ]
    },
    {
      "cell_type": "code",
      "source": [
        "#Q10\n",
        "class BankAccount:\n",
        "    def __init__(self, name, balance):\n",
        "        self.name = name\n",
        "        self._balance = balance  # Making balance private\n",
        "\n",
        "        print(f\"Account created successfully for {self.name}.\")\n",
        "        print(f\"Initial balance: 💲{self._balance}\")\n",
        "\n",
        "    def deposit(self, amount):\n",
        "        if amount > 0:\n",
        "            self._balance += amount\n",
        "            print(f\"Successfully deposited 💲{amount}.\")\n",
        "            print(f\"Your new balance is 💲{self._balance}.\")\n",
        "        else:\n",
        "            print(\"Deposit amount must be positive.\")\n",
        "\n",
        "    def withdrawal(self, amount):\n",
        "        if amount > 0:\n",
        "            if self._balance >= amount:\n",
        "                self._balance -= amount\n",
        "                print(f\"Withdrawal of 💲{amount} successful.\")\n",
        "            else:\n",
        "                print(\"Insufficient balance.\")\n",
        "        else:\n",
        "            print(\"Withdrawal amount must be positive.\")\n",
        "\n",
        "    def account_balance(self):\n",
        "        print(f\"Mr. {self.name}, your account balance is 💲{self._balance}.\")\n",
        "\n",
        "\n",
        "    def __str__(self):\n",
        "        return f\"Account owner: {self.name}, Balance: 💲{self._balance}\"\n",
        "\n",
        "# Example usage\n",
        "Jose = BankAccount(\"Uvais\", 200)\n",
        "Jose.deposit(500)\n",
        "Jose.withdrawal(150)\n",
        "Jose.account_balance()\n",
        "\n",
        "# Transfer money between accounts\n",
        "Ali = BankAccount(\"Ali\", 1000)\n",
        "\n",
        "print(Ali)\n",
        "print(Jose)\n"
      ],
      "metadata": {
        "id": "wB0muo_JN4wf"
      },
      "execution_count": null,
      "outputs": []
    },
    {
      "cell_type": "code",
      "source": [
        "#Q11\n",
        "class PalindromeChecker:\n",
        "\tdef __init__(self, text):\n",
        "\t\tself.text = text  # Store the string to be checked\n",
        "\n",
        "\tdef is_palindrome(self):\n",
        "\t\tleft = 0\n",
        "\t\tright = len(self.text) - 1\n",
        "\n",
        "\t\twhile left < right:\n",
        "\t\t\tif self.text[left] != self.text[right]:\n",
        "\t\t\t\treturn False\n",
        "\t\t\tleft += 1\n",
        "\t\t\tright -= 1\n",
        "\t\treturn True\n",
        "\n",
        "\tdef __str__(self):\n",
        "\t\treturn f\"The text '{self.text}' is a palindrome: {self.is_palindrome()}\"\n",
        "\n",
        "\n",
        "# Example usage:\n",
        "checker = PalindromeChecker(\"madam\")\n",
        "print(checker)  # Will print whether \"madam\" is a palindrome\n",
        "\n",
        "checker2 = PalindromeChecker(\"hello\")\n",
        "print(checker2)  # Will print whether \"hello\" is a palindrome\n"
      ],
      "metadata": {
        "colab": {
          "base_uri": "https://localhost:8080/"
        },
        "id": "VZIiFzaQODTV",
        "outputId": "a138ccf9-2e18-4bae-f462-1fc4cef51ff6"
      },
      "execution_count": 67,
      "outputs": [
        {
          "output_type": "stream",
          "name": "stdout",
          "text": [
            "The text 'madam' is a palindrome: True\n",
            "The text 'hello' is a palindrome: False\n"
          ]
        }
      ]
    },
    {
      "cell_type": "code",
      "source": [
        "#Q12\n",
        "def anagram(str1,str2):\n",
        "\tstr1 = str1.replace(\" \", \"\").lower()\n",
        "\tstr2 = str2.replace(\" \", \"\").lower()\n",
        "\treturn sorted(str1) == sorted(str2)\n",
        "\n",
        "print(anagram(\"Lis ten\",\"Si lent\"))"
      ],
      "metadata": {
        "colab": {
          "base_uri": "https://localhost:8080/"
        },
        "id": "gpClLmZGOQi8",
        "outputId": "db9a5ea9-af73-4e17-bba0-725ec013f0c0"
      },
      "execution_count": 68,
      "outputs": [
        {
          "output_type": "stream",
          "name": "stdout",
          "text": [
            "True\n"
          ]
        }
      ]
    },
    {
      "cell_type": "code",
      "source": [
        "#Q13\n",
        "def count_word_occurrences(file_path):\n",
        "    word_count = {}\n",
        "\n",
        "    try:\n",
        "        with open(file_path, 'r', encoding='utf-8') as file:\n",
        "            for line in file:\n",
        "                words = line.lower().replace('.', '').replace(',', '').split()\n",
        "                for word in words:\n",
        "                    word_count[word] = word_count.get(word, 0) + 1  # Count words\n",
        "\n",
        "        return word_count\n",
        "\n",
        "    except FileNotFoundError:\n",
        "        print(\"Error: File not found.\")\n",
        "        return {}\n",
        "\n",
        "# Example usage\n",
        "file_path = \"sample.txt\"  # Replace with your file path\n",
        "print(count_word_occurrences(file_path))\n"
      ],
      "metadata": {
        "id": "gbCKfNlhOUIc"
      },
      "execution_count": null,
      "outputs": []
    },
    {
      "cell_type": "code",
      "source": [
        "#Q14\n",
        "def find_longest_shortest_words(word_list):\n",
        "    longest_word = max(word_list, key=len)\n",
        "    shortest_word = min(word_list, key=len)\n",
        "    return longest_word, shortest_word\n",
        "\n",
        "# Example usage\n",
        "word_list = [\"apple\", \"airplane\", \"carrot\", \"elephant\", \"guitar\", \"moonlight\"]\n",
        "longest, shortest = find_longest_shortest_words(word_list)\n",
        "\n",
        "print(\"Longest word:\", longest)  # Output: airplane\n",
        "print(\"Shortest word:\", shortest)  # Output: apple"
      ],
      "metadata": {
        "id": "q0g77x1QO5nv"
      },
      "execution_count": null,
      "outputs": []
    },
    {
      "cell_type": "code",
      "source": [
        "#Q14B\n",
        "def sum_of_differences(num):\n",
        "\tnum.sort(reverse=True)\n",
        "\n",
        "\tdiff_sum = 0\n",
        "\tfor i in range(1, len(num)):\n",
        "\t\tdiff_sum += num[i - 1] - num[i]\n",
        "\n",
        "\treturn diff_sum\n",
        "\n",
        "\n",
        "numbers = [10, 20, 5, 40, 15]\n",
        "result = sum_of_differences(numbers)\n",
        "\n",
        "print(\"Sorted list in descending order:\", numbers)\n",
        "print(\"Sum of differences between consecutive elements:\", result)\n"
      ],
      "metadata": {
        "id": "NqejB90gPf0T"
      },
      "execution_count": null,
      "outputs": []
    },
    {
      "cell_type": "code",
      "source": [
        "#Q15\n",
        "from collections import Counter\n",
        "\n",
        "\n",
        "def count_elements(arr):\n",
        "\t# Count the occurrences of each element using Counter\n",
        "\tcounts = Counter(arr)\n",
        "\n",
        "\t# Print the element and its count\n",
        "\tfor element, count in counts.items():\n",
        "\t\tprint(f\"{element}={count}\")\n",
        "\n",
        "\n",
        "# Example usage\n",
        "arr = [1, 4, 5, 2, 1, 4]\n",
        "count_elements(arr)\n"
      ],
      "metadata": {
        "id": "GuUx8VQ-PKAI"
      },
      "execution_count": null,
      "outputs": []
    },
    {
      "cell_type": "code",
      "source": [
        "#Q16\n",
        "from collections import Counter\n",
        "\n",
        "def find_most_repeated(string):\n",
        "\tcount = Counter(string)\n",
        "\tmost_common_letter, count = count.most_common(1)[0]\n",
        "\treturn most_common_letter, count\n",
        "\n",
        "\n",
        "input = 'abbababbababcaabcbac'\n",
        "print(find_most_repeated(input))\n"
      ],
      "metadata": {
        "id": "OO_4Zx9LPXVZ"
      },
      "execution_count": null,
      "outputs": []
    },
    {
      "cell_type": "code",
      "source": [
        "#Q17\n",
        "def add_numbers(a, b):\n",
        "    while b != 0:\n",
        "        a += 1\n",
        "        b -= 1\n",
        "    return a\n",
        "\n",
        "# Example usage\n",
        "num1 = 5\n",
        "num2 = 7\n",
        "result = add_numbers(num1, num2)\n",
        "print(f\"The sum of {num1} and {num2} is {result}\")"
      ],
      "metadata": {
        "colab": {
          "base_uri": "https://localhost:8080/"
        },
        "id": "UmLMIU0yP3ez",
        "outputId": "dd5811a5-f3ff-469b-ddf5-2d13e4990377"
      },
      "execution_count": 69,
      "outputs": [
        {
          "output_type": "stream",
          "name": "stdout",
          "text": [
            "The sum of 5 and 7 is 12\n"
          ]
        }
      ]
    },
    {
      "cell_type": "code",
      "source": [
        "#Q18\n",
        "def reverse_second_half(array):\n",
        "\n",
        "\tmid = len(array) // 2\n",
        "\n",
        "\tarray[mid:] = array[mid:][::-1]\n",
        "\treturn array\n",
        "\n",
        "\n",
        "arr = [1, 2, 3, 4, 5, 6, 7, 8, 9, 10]\n",
        "result = reverse_second_half(arr)\n",
        "print(result)"
      ],
      "metadata": {
        "colab": {
          "base_uri": "https://localhost:8080/"
        },
        "id": "-_IemBh-QLB7",
        "outputId": "c0945694-fdf6-4ef3-cb07-84c22f002d50"
      },
      "execution_count": 70,
      "outputs": [
        {
          "output_type": "stream",
          "name": "stdout",
          "text": [
            "[1, 2, 3, 4, 5, 10, 9, 8, 7, 6]\n"
          ]
        }
      ]
    },
    {
      "cell_type": "code",
      "source": [
        "#Q19\n",
        "\n",
        "def remove_odd(s):\n",
        "\treturn s[::2]\n",
        "\n",
        "a= \"python is a programming language\"\n",
        "print(remove_odd(a))"
      ],
      "metadata": {
        "colab": {
          "base_uri": "https://localhost:8080/"
        },
        "id": "oObGuEVtQN4c",
        "outputId": "446b8ead-e501-4f73-f5f9-43aba7d02af8"
      },
      "execution_count": 71,
      "outputs": [
        {
          "output_type": "stream",
          "name": "stdout",
          "text": [
            "pto sapormiglnug\n"
          ]
        }
      ]
    },
    {
      "cell_type": "code",
      "source": [
        "#Q20\n",
        "def compress_string(string):\n",
        "\tcompressed = \"\"\n",
        "\tcount = 1\n",
        "\n",
        "\tfor i in range(1, len(string)):\n",
        "\t\tif string[i] == string[i - 1]:\n",
        "\t\t\tcount += 1\n",
        "\t\telse:\n",
        "\t\t\tcompressed += string[i - 1] + str(count)\n",
        "\t\t\tcount = 1\n",
        "\n",
        "\tcompressed += string[- 1] + str(count)\n",
        "\treturn compressed\n",
        "\n",
        "\n",
        "input_string = \"aabcccccaaa\"\n",
        "compressed_string = compress_string(input_string)\n",
        "print(\"Compressed string:\", compressed_string)\n"
      ],
      "metadata": {
        "colab": {
          "base_uri": "https://localhost:8080/"
        },
        "id": "x99vWJsAQaf6",
        "outputId": "a0e1cac6-0b53-4242-f1bb-3bb2fb5dfa0c"
      },
      "execution_count": 72,
      "outputs": [
        {
          "output_type": "stream",
          "name": "stdout",
          "text": [
            "Compressed string: a2b1c5a3\n"
          ]
        }
      ]
    },
    {
      "cell_type": "code",
      "source": [
        "#Q21\n",
        "def check_fibonacci(n):\n",
        "\ta, b = 0, 1\n",
        "\twhile a < n:\n",
        "\t\ta, b = b, a + b\n",
        "\treturn a == n\n",
        "\n",
        "\n",
        "num = int(input(\"number : \"))\n",
        "if check_fibonacci(num):\n",
        "\tprint(f\"{num} is a fibonacci number.\")\n",
        "else:\n",
        "\tprint(f\"{num} is not a fibonacci number.\")\n",
        "\n"
      ],
      "metadata": {
        "colab": {
          "base_uri": "https://localhost:8080/"
        },
        "id": "IM-itSOZQteC",
        "outputId": "38cddf29-3d82-4a05-a9c2-2d9810584717"
      },
      "execution_count": 1,
      "outputs": [
        {
          "output_type": "stream",
          "name": "stdout",
          "text": [
            "number : 20\n",
            "20 is not a fibonacci number.\n"
          ]
        }
      ]
    },
    {
      "cell_type": "code",
      "source": [
        "#Q22\n",
        "def found_larger(l):\n",
        "\tarr = list(set(l))\n",
        "\tarr.sort(reverse=True)\n",
        "\treturn arr[1]\n",
        "\n",
        "\n",
        "lists=[ 1,7,8,5,12,15]\n",
        "print(found_larger(lists))\n"
      ],
      "metadata": {
        "colab": {
          "base_uri": "https://localhost:8080/"
        },
        "id": "UhlgaNjFQycR",
        "outputId": "e86a36ad-0503-433a-9d6c-862044830781"
      },
      "execution_count": 2,
      "outputs": [
        {
          "output_type": "stream",
          "name": "stdout",
          "text": [
            "12\n"
          ]
        }
      ]
    },
    {
      "cell_type": "code",
      "source": [
        "#Q23\n",
        "from functools import reduce\n",
        "\n",
        "febnacci_series = lambda n: reduce(lambda x, _: x + [x[-1] + x[-2]], range(n - 2), [0, 1])\n",
        "\n",
        "n = 10\n",
        "print(febnacci_series(n))\n"
      ],
      "metadata": {
        "colab": {
          "base_uri": "https://localhost:8080/"
        },
        "id": "JUor8A3uRA6T",
        "outputId": "8e8026f9-a49e-47a1-cbd3-95374414a04e"
      },
      "execution_count": 3,
      "outputs": [
        {
          "output_type": "stream",
          "name": "stdout",
          "text": [
            "[0, 1, 1, 2, 3, 5, 8, 13, 21, 34]\n"
          ]
        }
      ]
    },
    {
      "cell_type": "code",
      "source": [
        "#Q24\n",
        "\n",
        "def char_count(string):\n",
        "\tchar_dict = {}  # Dictionary to store character counts\n",
        "\n",
        "\t# Count occurrences of each character\n",
        "\tfor char in string:\n",
        "\t\tchar_dict[char] = char_dict.get(char, 0) + 1\n",
        "\n",
        "\t# Print each character with its count\n",
        "\tfor char, count in char_dict.items():\n",
        "\t\tprint(f\"'{char}' appears {count} times\")\n",
        "\n",
        "\n",
        "# Example usage\n",
        "text = \"hello world\"\n",
        "char_count(text)\n"
      ],
      "metadata": {
        "id": "yiEtfSSwRHjc"
      },
      "execution_count": null,
      "outputs": []
    },
    {
      "cell_type": "code",
      "source": [
        "#Q25\n",
        "def first_non_repeating(are):\n",
        "\te_dic = {}\n",
        "\tfor num in are:\n",
        "\t\te_dic[num] = e_dic.get(num, 0) + 1\n",
        "\n",
        "\tfor num in are:\n",
        "\t\tif e_dic[num] == 1:\n",
        "\t\t\treturn num\n",
        "\treturn None\n",
        "\n",
        "\n",
        "arr = [4, 5, 1, 2, 0, 5, 1, 2]\n",
        "print(\"First non-repeating element:\", first_non_repeating(arr))\n"
      ],
      "metadata": {
        "colab": {
          "base_uri": "https://localhost:8080/"
        },
        "id": "6GpAYwpfRUWf",
        "outputId": "19808388-abaa-462f-8d1b-0073fc726bb9"
      },
      "execution_count": 4,
      "outputs": [
        {
          "output_type": "stream",
          "name": "stdout",
          "text": [
            "First non-repeating element: 4\n"
          ]
        }
      ]
    },
    {
      "cell_type": "code",
      "source": [
        "#Q26\n",
        "class Calculator:\n",
        "    # Class attribute\n",
        "    history = []\n",
        "\n",
        "    def __init__(self, a, b):\n",
        "        self.a = a\n",
        "        self.b = b\n",
        "\n",
        "    # Instance method (uses self)\n",
        "    def add(self):\n",
        "        result = self.a + self.b\n",
        "        Calculator.history.append(f\"{self.a} + {self.b} = {result}\")\n",
        "        return result\n",
        "\n",
        "    # Class method (uses cls)\n",
        "    @classmethod\n",
        "    def show_history(cls):\n",
        "        return cls.history\n",
        "\n",
        "    # Static method (does not use self or cls)\n",
        "    @staticmethod\n",
        "    def multiply(x, y):\n",
        "        return x * y\n",
        "\n",
        "# Example usage\n",
        "calc1 = Calculator(5, 3)\n",
        "print(\"Addition:\", calc1.add())  # Calls instance method\n",
        "\n",
        "print(\"Multiplication (static method):\", Calculator.multiply(4, 7))  # Calls static method\n",
        "\n",
        "print(\"History (class method):\", Calculator.show_history())  # Calls class method\n"
      ],
      "metadata": {
        "id": "wv-mpwSIRcip"
      },
      "execution_count": null,
      "outputs": []
    }
  ]
}