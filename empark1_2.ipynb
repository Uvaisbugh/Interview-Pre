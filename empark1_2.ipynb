{
  "nbformat": 4,
  "nbformat_minor": 0,
  "metadata": {
    "colab": {
      "provenance": [],
      "authorship_tag": "ABX9TyPelgDiO6jGgtVzAWgxf1wP"
    },
    "kernelspec": {
      "name": "python3",
      "display_name": "Python 3"
    },
    "language_info": {
      "name": "python"
    }
  },
  "cells": [
    {
      "cell_type": "markdown",
      "source": [
        "3) Consider a scenario where you have a base class called Employee and derived classes such as Manager, Engineer, and Salesperson. How would you handle implementing a common method, such as calculateSalary(), in each derived class using inheritance and method overriding?"
      ],
      "metadata": {
        "id": "3XpqZEjC9Ys6"
      }
    },
    {
      "cell_type": "code",
      "execution_count": 1,
      "metadata": {
        "colab": {
          "base_uri": "https://localhost:8080/"
        },
        "id": "O7xLBiuT9JqU",
        "outputId": "a3d772f0-4a97-4750-bc28-993a7aa8b26d"
      },
      "outputs": [
        {
          "output_type": "stream",
          "name": "stdout",
          "text": [
            "Alice's salary: 6000\n",
            "Bob's salary: 4500\n",
            "Charlie's salary: 4000.0\n"
          ]
        }
      ],
      "source": [
        "\n",
        "class Employee:\n",
        "    def __init__(self, name, id):\n",
        "        self.name = name\n",
        "        self.id = id\n",
        "\n",
        "    def calculateSalary(self):\n",
        "        # Base implementation, can be overridden in derived classes\n",
        "        return 0  # Default salary is 0\n",
        "\n",
        "\n",
        "class Manager(Employee):\n",
        "    def __init__(self, name, id, bonus):\n",
        "        super().__init__(name, id)\n",
        "        self.bonus = bonus\n",
        "\n",
        "    def calculateSalary(self):\n",
        "        # Override calculateSalary for Manager\n",
        "        base_salary = 5000  # Example base salary\n",
        "        return base_salary + self.bonus\n",
        "\n",
        "\n",
        "class Engineer(Employee):\n",
        "    def __init__(self, name, id, overtime_hours):\n",
        "        super().__init__(name, id)\n",
        "        self.overtime_hours = overtime_hours\n",
        "\n",
        "    def calculateSalary(self):\n",
        "      # Override calculateSalary for Engineer\n",
        "      hourly_rate = 50  # Example hourly rate\n",
        "      return 4000 + (self.overtime_hours * hourly_rate)\n",
        "\n",
        "\n",
        "class Salesperson(Employee):\n",
        "    def __init__(self, name, id, sales_target, commission_rate):\n",
        "        super().__init__(name, id)\n",
        "        self.sales_target = sales_target\n",
        "        self.commission_rate = commission_rate\n",
        "\n",
        "    def calculateSalary(self):\n",
        "        # Override calculateSalary for Salesperson\n",
        "        base_salary = 3000 # Example base salary\n",
        "        return base_salary + (self.sales_target * self.commission_rate)\n",
        "\n",
        "\n",
        "# Example usage\n",
        "manager = Manager(\"Alice\", 101, 1000)\n",
        "engineer = Engineer(\"Bob\", 102, 10)\n",
        "salesperson = Salesperson(\"Charlie\", 103, 10000, 0.1)\n",
        "\n",
        "print(f\"{manager.name}'s salary: {manager.calculateSalary()}\")\n",
        "print(f\"{engineer.name}'s salary: {engineer.calculateSalary()}\")\n",
        "print(f\"{salesperson.name}'s salary: {salesperson.calculateSalary()}\")"
      ]
    },
    {
      "cell_type": "markdown",
      "source": [
        "Print odd numbers pattern using while loop\n",
        "\n",
        "1 <br>\n",
        "3 3 <br>\n",
        "5 5 5 <br>\n",
        "7 7 7 7 <br>\n",
        "9 9 9 9 9<br>\n"
      ],
      "metadata": {
        "id": "gqbbbKs7GHwu"
      }
    },
    {
      "cell_type": "code",
      "source": [
        "i = 1\n",
        "while i <= 9:\n",
        "    j = 1\n",
        "    while j <= i:\n",
        "        print(i, end=\" \")\n",
        "        j += 2\n",
        "    print(\"\")\n",
        "    i += 2\n"
      ],
      "metadata": {
        "colab": {
          "base_uri": "https://localhost:8080/"
        },
        "id": "U4J6mhvw-YBQ",
        "outputId": "31d4b48c-fc42-43c8-9699-40114b635c9b"
      },
      "execution_count": 7,
      "outputs": [
        {
          "output_type": "stream",
          "name": "stdout",
          "text": [
            "1 \n",
            "3 3 \n",
            "5 5 5 \n",
            "7 7 7 7 \n",
            "9 9 9 9 9 \n"
          ]
        }
      ]
    },
    {
      "cell_type": "markdown",
      "source": [
        "2)  Write a Python program that uses a \"while\" loop to repeatedly ask the user to input a number until they input a negative number, and then prints out the sum of all the positive numbers they entered.\n",
        "\n"
      ],
      "metadata": {
        "id": "LlcurVZwG8H6"
      }
    },
    {
      "cell_type": "code",
      "source": [
        "n = 5  # Size of the square (you can change this)\n",
        "\n",
        "i = 1\n",
        "while i <= n:\n",
        "    j = 1\n",
        "    while j <= n:\n",
        "        if i == 1 or i == n or j == 1 or j == n:\n",
        "            print(\"*\", end=\"\")\n",
        "        else:\n",
        "            print(\" \", end=\"\")\n",
        "        j += 1\n",
        "    print(\"\")\n",
        "    i += 1"
      ],
      "metadata": {
        "colab": {
          "base_uri": "https://localhost:8080/"
        },
        "id": "X_1r41StG_Kc",
        "outputId": "453e5abb-20cc-4f24-a187-73e22b2aa24a"
      },
      "execution_count": 8,
      "outputs": [
        {
          "output_type": "stream",
          "name": "stdout",
          "text": [
            "*****\n",
            "*   *\n",
            "*   *\n",
            "*   *\n",
            "*****\n"
          ]
        }
      ]
    },
    {
      "cell_type": "markdown",
      "source": [],
      "metadata": {
        "id": "66gJnLyz9QoZ"
      }
    }
  ]
}